{
  "nbformat": 4,
  "nbformat_minor": 5,
  "metadata": {
    "kernelspec": {
      "display_name": "Python 3",
      "language": "python",
      "name": "python3"
    },
    "language_info": {
      "codemirror_mode": {
        "name": "ipython",
        "version": 3
      },
      "file_extension": ".py",
      "mimetype": "text/x-python",
      "name": "python",
      "nbconvert_exporter": "python",
      "pygments_lexer": "ipython3",
      "version": "3.8.8"
    },
    "colab": {
      "name": "Case_study_cars.ipynb",
      "provenance": [],
      "include_colab_link": true
    }
  },
  "cells": [
    {
      "cell_type": "markdown",
      "metadata": {
        "id": "view-in-github",
        "colab_type": "text"
      },
      "source": [
        "<a href=\"https://colab.research.google.com/github/sreenathmt/ICT-DS-COURSE/blob/main/Case_study_cars.ipynb\" target=\"_parent\"><img src=\"https://colab.research.google.com/assets/colab-badge.svg\" alt=\"Open In Colab\"/></a>"
      ]
    },
    {
      "cell_type": "code",
      "metadata": {
        "id": "17628e0b-90b9-492c-b16a-8de191840f62"
      },
      "source": [
        "import pandas as pd\n",
        "import numpy as np\n",
        "import matplotlib.pyplot as plt\n",
        "import seaborn as sns"
      ],
      "id": "17628e0b-90b9-492c-b16a-8de191840f62",
      "execution_count": null,
      "outputs": []
    },
    {
      "cell_type": "markdown",
      "metadata": {
        "id": "9ee21caa-1875-4b74-a739-cb57be4f397e"
      },
      "source": [
        "# 1.  Read the dataset to the python environment."
      ],
      "id": "9ee21caa-1875-4b74-a739-cb57be4f397e"
    },
    {
      "cell_type": "code",
      "metadata": {
        "id": "eabaed34-35b3-479c-aef0-adcb84d715fd"
      },
      "source": [
        "df=pd.read_csv('cars_data.csv')"
      ],
      "id": "eabaed34-35b3-479c-aef0-adcb84d715fd",
      "execution_count": null,
      "outputs": []
    },
    {
      "cell_type": "code",
      "metadata": {
        "id": "a4aaaba6-bdf4-4fe2-924f-63cf5ee09291",
        "outputId": "0287d7a5-16af-47a5-deee-42b73a046ba0"
      },
      "source": [
        "df.head()\n"
      ],
      "id": "a4aaaba6-bdf4-4fe2-924f-63cf5ee09291",
      "execution_count": null,
      "outputs": [
        {
          "data": {
            "text/html": [
              "<div>\n",
              "<style scoped>\n",
              "    .dataframe tbody tr th:only-of-type {\n",
              "        vertical-align: middle;\n",
              "    }\n",
              "\n",
              "    .dataframe tbody tr th {\n",
              "        vertical-align: top;\n",
              "    }\n",
              "\n",
              "    .dataframe thead th {\n",
              "        text-align: right;\n",
              "    }\n",
              "</style>\n",
              "<table border=\"1\" class=\"dataframe\">\n",
              "  <thead>\n",
              "    <tr style=\"text-align: right;\">\n",
              "      <th></th>\n",
              "      <th>Make</th>\n",
              "      <th>Model</th>\n",
              "      <th>Nickname</th>\n",
              "      <th>Car Gender</th>\n",
              "      <th>Buyer Gender</th>\n",
              "      <th>Buyer Age</th>\n",
              "      <th>Buzzword</th>\n",
              "      <th>Country</th>\n",
              "      <th>City</th>\n",
              "      <th>Dealer Latitude</th>\n",
              "      <th>Dealer Longitude</th>\n",
              "      <th>Color</th>\n",
              "      <th>New Car</th>\n",
              "      <th>Purchase Date</th>\n",
              "      <th>Sale Price</th>\n",
              "      <th>Discount</th>\n",
              "      <th>Resell Price</th>\n",
              "      <th>5-yr Depreciation</th>\n",
              "      <th>Top Speed</th>\n",
              "      <th>0-60 Time</th>\n",
              "    </tr>\n",
              "  </thead>\n",
              "  <tbody>\n",
              "    <tr>\n",
              "      <th>0</th>\n",
              "      <td>Suzuki</td>\n",
              "      <td>Vitara</td>\n",
              "      <td>Philippine</td>\n",
              "      <td>Female</td>\n",
              "      <td>Female</td>\n",
              "      <td>51</td>\n",
              "      <td>User-friendly</td>\n",
              "      <td>Belgium</td>\n",
              "      <td>Antwerpen</td>\n",
              "      <td>51.247239</td>\n",
              "      <td>4.440346</td>\n",
              "      <td>Yellow</td>\n",
              "      <td>False</td>\n",
              "      <td>19/07/2009</td>\n",
              "      <td>54806.14</td>\n",
              "      <td>0.2467</td>\n",
              "      <td>33858.32</td>\n",
              "      <td>0.13</td>\n",
              "      <td>200.9</td>\n",
              "      <td>11.5</td>\n",
              "    </tr>\n",
              "    <tr>\n",
              "      <th>1</th>\n",
              "      <td>Honda</td>\n",
              "      <td>S2000</td>\n",
              "      <td>Henrik</td>\n",
              "      <td>Male</td>\n",
              "      <td>Male</td>\n",
              "      <td>30</td>\n",
              "      <td>analyzing</td>\n",
              "      <td>China</td>\n",
              "      <td>Jinhu</td>\n",
              "      <td>33.025433</td>\n",
              "      <td>119.020584</td>\n",
              "      <td>Crimson</td>\n",
              "      <td>False</td>\n",
              "      <td>26/10/2015</td>\n",
              "      <td>51826.30</td>\n",
              "      <td>0.3147</td>\n",
              "      <td>2989.28</td>\n",
              "      <td>0.02</td>\n",
              "      <td>158.5</td>\n",
              "      <td>8.8</td>\n",
              "    </tr>\n",
              "    <tr>\n",
              "      <th>2</th>\n",
              "      <td>BMW</td>\n",
              "      <td>Z4</td>\n",
              "      <td>Lebbie</td>\n",
              "      <td>Male</td>\n",
              "      <td>Female</td>\n",
              "      <td>54</td>\n",
              "      <td>software</td>\n",
              "      <td>China</td>\n",
              "      <td>Gemo</td>\n",
              "      <td>30.916207</td>\n",
              "      <td>121.677640</td>\n",
              "      <td>Khaki</td>\n",
              "      <td>False</td>\n",
              "      <td>28/03/2010</td>\n",
              "      <td>82929.14</td>\n",
              "      <td>0.5414</td>\n",
              "      <td>35049.16</td>\n",
              "      <td>0.24</td>\n",
              "      <td>149.5</td>\n",
              "      <td>14.4</td>\n",
              "    </tr>\n",
              "    <tr>\n",
              "      <th>3</th>\n",
              "      <td>Toyota</td>\n",
              "      <td>Tacoma</td>\n",
              "      <td>Jefferey</td>\n",
              "      <td>Female</td>\n",
              "      <td>Male</td>\n",
              "      <td>68</td>\n",
              "      <td>monitoring</td>\n",
              "      <td>Portugal</td>\n",
              "      <td>Queluz de Baixo</td>\n",
              "      <td>38.745168</td>\n",
              "      <td>-9.267087</td>\n",
              "      <td>Puce</td>\n",
              "      <td>False</td>\n",
              "      <td>07/05/2008</td>\n",
              "      <td>56928.66</td>\n",
              "      <td>0.0850</td>\n",
              "      <td>8236.15</td>\n",
              "      <td>0.20</td>\n",
              "      <td>153.3</td>\n",
              "      <td>11.5</td>\n",
              "    </tr>\n",
              "    <tr>\n",
              "      <th>4</th>\n",
              "      <td>Ford</td>\n",
              "      <td>Festiva</td>\n",
              "      <td>Glendon</td>\n",
              "      <td>Female</td>\n",
              "      <td>Male</td>\n",
              "      <td>70</td>\n",
              "      <td>Sharable</td>\n",
              "      <td>Latvia</td>\n",
              "      <td>Jaunpils</td>\n",
              "      <td>56.729980</td>\n",
              "      <td>23.016588</td>\n",
              "      <td>Yellow</td>\n",
              "      <td>False</td>\n",
              "      <td>01/06/2008</td>\n",
              "      <td>77201.26</td>\n",
              "      <td>0.1642</td>\n",
              "      <td>32765.76</td>\n",
              "      <td>0.18</td>\n",
              "      <td>122.0</td>\n",
              "      <td>14.9</td>\n",
              "    </tr>\n",
              "  </tbody>\n",
              "</table>\n",
              "</div>"
            ],
            "text/plain": [
              "     Make    Model    Nickname Car Gender Buyer Gender  Buyer Age  \\\n",
              "0  Suzuki   Vitara  Philippine     Female       Female         51   \n",
              "1   Honda    S2000      Henrik       Male         Male         30   \n",
              "2     BMW       Z4      Lebbie       Male       Female         54   \n",
              "3  Toyota   Tacoma    Jefferey     Female         Male         68   \n",
              "4    Ford  Festiva     Glendon     Female         Male         70   \n",
              "\n",
              "        Buzzword   Country             City  Dealer Latitude  \\\n",
              "0  User-friendly   Belgium        Antwerpen        51.247239   \n",
              "1      analyzing     China            Jinhu        33.025433   \n",
              "2       software     China             Gemo        30.916207   \n",
              "3     monitoring  Portugal  Queluz de Baixo        38.745168   \n",
              "4       Sharable    Latvia         Jaunpils        56.729980   \n",
              "\n",
              "   Dealer Longitude    Color  New Car Purchase Date  Sale Price  Discount  \\\n",
              "0          4.440346   Yellow    False    19/07/2009    54806.14    0.2467   \n",
              "1        119.020584  Crimson    False    26/10/2015    51826.30    0.3147   \n",
              "2        121.677640    Khaki    False    28/03/2010    82929.14    0.5414   \n",
              "3         -9.267087     Puce    False    07/05/2008    56928.66    0.0850   \n",
              "4         23.016588   Yellow    False    01/06/2008    77201.26    0.1642   \n",
              "\n",
              "   Resell Price  5-yr Depreciation  Top Speed  0-60 Time  \n",
              "0      33858.32               0.13      200.9       11.5  \n",
              "1       2989.28               0.02      158.5        8.8  \n",
              "2      35049.16               0.24      149.5       14.4  \n",
              "3       8236.15               0.20      153.3       11.5  \n",
              "4      32765.76               0.18      122.0       14.9  "
            ]
          },
          "execution_count": 3,
          "metadata": {},
          "output_type": "execute_result"
        }
      ]
    },
    {
      "cell_type": "markdown",
      "metadata": {
        "id": "7fd19fb2-989f-4897-ba4c-ba94b6735016"
      },
      "source": [
        "# 2.  Check for the null values present in the dataset."
      ],
      "id": "7fd19fb2-989f-4897-ba4c-ba94b6735016"
    },
    {
      "cell_type": "code",
      "metadata": {
        "id": "eb02f1f5-d9b2-4424-b230-8048eceab2f6",
        "outputId": "a8966673-d380-402b-9372-ee69275681ec"
      },
      "source": [
        "df.isnull().sum()"
      ],
      "id": "eb02f1f5-d9b2-4424-b230-8048eceab2f6",
      "execution_count": null,
      "outputs": [
        {
          "data": {
            "text/plain": [
              "Make                 0\n",
              "Model                0\n",
              "Nickname             0\n",
              "Car Gender           0\n",
              "Buyer Gender         0\n",
              "Buyer Age            0\n",
              "Buzzword             0\n",
              "Country              0\n",
              "City                 0\n",
              "Dealer Latitude      0\n",
              "Dealer Longitude     0\n",
              "Color                0\n",
              "New Car              0\n",
              "Purchase Date        0\n",
              "Sale Price           0\n",
              "Discount             0\n",
              "Resell Price         0\n",
              "5-yr Depreciation    0\n",
              "Top Speed            0\n",
              "0-60 Time            0\n",
              "dtype: int64"
            ]
          },
          "execution_count": 4,
          "metadata": {},
          "output_type": "execute_result"
        }
      ]
    },
    {
      "cell_type": "code",
      "metadata": {
        "id": "67e04f4f-f29b-480b-9b10-a10eea4dcba1",
        "outputId": "8851074c-4f2a-46cf-c204-3c8b830046d2"
      },
      "source": [
        "df['Buyer Gender'].value_counts()"
      ],
      "id": "67e04f4f-f29b-480b-9b10-a10eea4dcba1",
      "execution_count": null,
      "outputs": [
        {
          "data": {
            "text/plain": [
              "Female    5052\n",
              "Male      4948\n",
              "Name: Buyer Gender, dtype: int64"
            ]
          },
          "execution_count": 5,
          "metadata": {},
          "output_type": "execute_result"
        }
      ]
    },
    {
      "cell_type": "markdown",
      "metadata": {
        "id": "72b5bd5b-372b-4e1e-9089-b624243d906d"
      },
      "source": [
        "# 3.  Plot a bar graph of male vs female buyers participated in the sales."
      ],
      "id": "72b5bd5b-372b-4e1e-9089-b624243d906d"
    },
    {
      "cell_type": "code",
      "metadata": {
        "id": "b87192bd-c270-4a49-82ec-58600bd05150",
        "outputId": "6ca418cb-e821-45b8-9179-077886be73ec"
      },
      "source": [
        "df['Buyer Gender'].value_counts().plot(kind='bar',figsize=(8, 6), width=0.2 , color = 'c' , ec='black');\n",
        "ax=plt.subplot()\n",
        "ax.bar_label(ax.containers[0])\n",
        "plt.title(\"Bar graph of male vs female buyers\")\n",
        "plt.tight_layout()"
      ],
      "id": "b87192bd-c270-4a49-82ec-58600bd05150",
      "execution_count": null,
      "outputs": [
        {
          "data": {
            "image/png": "[encoded data removed]",
            "text/plain": [
              "<Figure size 576x432 with 1 Axes>"
            ]
          },
          "metadata": {
            "needs_background": "light"
          },
          "output_type": "display_data"
        }
      ]
    },
    {
      "cell_type": "code",
      "metadata": {
        "id": "9d8299c8-906f-403f-9bfe-aadd769a20b8",
        "outputId": "87eb4450-a730-4daf-9d1a-903342b14ca0"
      },
      "source": [
        "sns.set(rc = {'figure.figsize':(10,6)})\n",
        "sns.countplot(data=df, x=df['Buyer Gender'], order=df['Buyer Gender'].value_counts().index, alpha = 0.6).set(title=\"Count Plot on Male and Female Buyers\")\n",
        "ax=plt.subplot()\n",
        "ax.bar_label(ax.containers[0])\n",
        "plt.tight_layout()\n"
      ],
      "id": "9d8299c8-906f-403f-9bfe-aadd769a20b8",
      "execution_count": null,
      "outputs": [
        {
          "data": {
            "image/png": "[encoded data removed]",
            "text/plain": [
              "<Figure size 720x432 with 1 Axes>"
            ]
          },
          "metadata": {},
          "output_type": "display_data"
        }
      ]
    },
    {
      "cell_type": "markdown",
      "metadata": {
        "id": "c3917929-1b5b-4975-880a-3cd667df3b2c"
      },
      "source": [
        "# 4. Find the top 5 cars based on their sales price."
      ],
      "id": "c3917929-1b5b-4975-880a-3cd667df3b2c"
    },
    {
      "cell_type": "code",
      "metadata": {
        "id": "666c9fca-5973-41f2-94ea-277001671e56",
        "outputId": "c7140df8-ae7c-4209-a2c1-6c598c0f1168"
      },
      "source": [
        "#Top five car sales price and count\n",
        "df['Sale Price'].nlargest(5).value_counts()"
      ],
      "id": "666c9fca-5973-41f2-94ea-277001671e56",
      "execution_count": null,
      "outputs": [
        {
          "data": {
            "text/plain": [
              "99991.91    1\n",
              "99978.17    1\n",
              "99983.38    1\n",
              "99997.65    1\n",
              "99973.44    1\n",
              "Name: Sale Price, dtype: int64"
            ]
          },
          "execution_count": 8,
          "metadata": {},
          "output_type": "execute_result"
        }
      ]
    },
    {
      "cell_type": "code",
      "metadata": {
        "id": "b854954f-03db-4eba-aec8-f20c8a5ed268",
        "outputId": "237178aa-19bb-49e6-cf51-bae73bd6c85c"
      },
      "source": [
        "#Getting data based on the Top 5 sales price\n",
        "Top=df.nlargest(5, 'Sale Price')\n",
        "Top"
      ],
      "id": "b854954f-03db-4eba-aec8-f20c8a5ed268",
      "execution_count": null,
      "outputs": [
        {
          "data": {
            "text/html": [
              "<div>\n",
              "<style scoped>\n",
              "    .dataframe tbody tr th:only-of-type {\n",
              "        vertical-align: middle;\n",
              "    }\n",
              "\n",
              "    .dataframe tbody tr th {\n",
              "        vertical-align: top;\n",
              "    }\n",
              "\n",
              "    .dataframe thead th {\n",
              "        text-align: right;\n",
              "    }\n",
              "</style>\n",
              "<table border=\"1\" class=\"dataframe\">\n",
              "  <thead>\n",
              "    <tr style=\"text-align: right;\">\n",
              "      <th></th>\n",
              "      <th>Make</th>\n",
              "      <th>Model</th>\n",
              "      <th>Nickname</th>\n",
              "      <th>Car Gender</th>\n",
              "      <th>Buyer Gender</th>\n",
              "      <th>Buyer Age</th>\n",
              "      <th>Buzzword</th>\n",
              "      <th>Country</th>\n",
              "      <th>City</th>\n",
              "      <th>Dealer Latitude</th>\n",
              "      <th>Dealer Longitude</th>\n",
              "      <th>Color</th>\n",
              "      <th>New Car</th>\n",
              "      <th>Purchase Date</th>\n",
              "      <th>Sale Price</th>\n",
              "      <th>Discount</th>\n",
              "      <th>Resell Price</th>\n",
              "      <th>5-yr Depreciation</th>\n",
              "      <th>Top Speed</th>\n",
              "      <th>0-60 Time</th>\n",
              "    </tr>\n",
              "  </thead>\n",
              "  <tbody>\n",
              "    <tr>\n",
              "      <th>5984</th>\n",
              "      <td>Volkswagen</td>\n",
              "      <td>Jetta III</td>\n",
              "      <td>Rachael</td>\n",
              "      <td>Female</td>\n",
              "      <td>Female</td>\n",
              "      <td>73</td>\n",
              "      <td>core</td>\n",
              "      <td>Russia</td>\n",
              "      <td>Krasnoyarka</td>\n",
              "      <td>59.418208</td>\n",
              "      <td>60.514706</td>\n",
              "      <td>Blue</td>\n",
              "      <td>False</td>\n",
              "      <td>10/05/2014</td>\n",
              "      <td>99997.65</td>\n",
              "      <td>0.1695</td>\n",
              "      <td>31601.95</td>\n",
              "      <td>0.06</td>\n",
              "      <td>204.9</td>\n",
              "      <td>12.6</td>\n",
              "    </tr>\n",
              "    <tr>\n",
              "      <th>1270</th>\n",
              "      <td>Audi</td>\n",
              "      <td>A6</td>\n",
              "      <td>Thorn</td>\n",
              "      <td>Male</td>\n",
              "      <td>Male</td>\n",
              "      <td>75</td>\n",
              "      <td>function</td>\n",
              "      <td>Latvia</td>\n",
              "      <td>Līgatne</td>\n",
              "      <td>57.236340</td>\n",
              "      <td>25.038073</td>\n",
              "      <td>Blue</td>\n",
              "      <td>True</td>\n",
              "      <td>30/01/2017</td>\n",
              "      <td>99991.91</td>\n",
              "      <td>0.4692</td>\n",
              "      <td>34711.19</td>\n",
              "      <td>0.16</td>\n",
              "      <td>171.3</td>\n",
              "      <td>13.0</td>\n",
              "    </tr>\n",
              "    <tr>\n",
              "      <th>3460</th>\n",
              "      <td>Lexus</td>\n",
              "      <td>LX</td>\n",
              "      <td>Aldin</td>\n",
              "      <td>Female</td>\n",
              "      <td>Male</td>\n",
              "      <td>38</td>\n",
              "      <td>software</td>\n",
              "      <td>Malaysia</td>\n",
              "      <td>Pasir Mas</td>\n",
              "      <td>6.109065</td>\n",
              "      <td>102.133622</td>\n",
              "      <td>Orange</td>\n",
              "      <td>False</td>\n",
              "      <td>04/03/2018</td>\n",
              "      <td>99983.38</td>\n",
              "      <td>0.1170</td>\n",
              "      <td>21462.44</td>\n",
              "      <td>0.12</td>\n",
              "      <td>193.7</td>\n",
              "      <td>4.5</td>\n",
              "    </tr>\n",
              "    <tr>\n",
              "      <th>9032</th>\n",
              "      <td>Mazda</td>\n",
              "      <td>MX-6</td>\n",
              "      <td>Sylvester</td>\n",
              "      <td>Female</td>\n",
              "      <td>Male</td>\n",
              "      <td>26</td>\n",
              "      <td>internet solution</td>\n",
              "      <td>Russia</td>\n",
              "      <td>Krutaya Gorka</td>\n",
              "      <td>55.369917</td>\n",
              "      <td>73.222396</td>\n",
              "      <td>Pink</td>\n",
              "      <td>False</td>\n",
              "      <td>11/12/2014</td>\n",
              "      <td>99978.17</td>\n",
              "      <td>0.6021</td>\n",
              "      <td>45958.19</td>\n",
              "      <td>0.15</td>\n",
              "      <td>232.0</td>\n",
              "      <td>3.9</td>\n",
              "    </tr>\n",
              "    <tr>\n",
              "      <th>302</th>\n",
              "      <td>Lexus</td>\n",
              "      <td>ES</td>\n",
              "      <td>Brig</td>\n",
              "      <td>Female</td>\n",
              "      <td>Male</td>\n",
              "      <td>39</td>\n",
              "      <td>user-facing</td>\n",
              "      <td>Canada</td>\n",
              "      <td>Langford</td>\n",
              "      <td>48.447463</td>\n",
              "      <td>-123.495634</td>\n",
              "      <td>Maroon</td>\n",
              "      <td>False</td>\n",
              "      <td>26/07/2018</td>\n",
              "      <td>99973.44</td>\n",
              "      <td>0.6294</td>\n",
              "      <td>32521.53</td>\n",
              "      <td>0.21</td>\n",
              "      <td>228.1</td>\n",
              "      <td>4.7</td>\n",
              "    </tr>\n",
              "  </tbody>\n",
              "</table>\n",
              "</div>"
            ],
            "text/plain": [
              "            Make      Model   Nickname Car Gender Buyer Gender  Buyer Age  \\\n",
              "5984  Volkswagen  Jetta III    Rachael     Female       Female         73   \n",
              "1270        Audi         A6      Thorn       Male         Male         75   \n",
              "3460       Lexus         LX      Aldin     Female         Male         38   \n",
              "9032       Mazda       MX-6  Sylvester     Female         Male         26   \n",
              "302        Lexus         ES       Brig     Female         Male         39   \n",
              "\n",
              "               Buzzword   Country           City  Dealer Latitude  \\\n",
              "5984               core    Russia    Krasnoyarka        59.418208   \n",
              "1270           function    Latvia        Līgatne        57.236340   \n",
              "3460           software  Malaysia      Pasir Mas         6.109065   \n",
              "9032  internet solution    Russia  Krutaya Gorka        55.369917   \n",
              "302         user-facing    Canada       Langford        48.447463   \n",
              "\n",
              "      Dealer Longitude   Color  New Car Purchase Date  Sale Price  Discount  \\\n",
              "5984         60.514706    Blue    False    10/05/2014    99997.65    0.1695   \n",
              "1270         25.038073    Blue     True    30/01/2017    99991.91    0.4692   \n",
              "3460        102.133622  Orange    False    04/03/2018    99983.38    0.1170   \n",
              "9032         73.222396    Pink    False    11/12/2014    99978.17    0.6021   \n",
              "302        -123.495634  Maroon    False    26/07/2018    99973.44    0.6294   \n",
              "\n",
              "      Resell Price  5-yr Depreciation  Top Speed  0-60 Time  \n",
              "5984      31601.95               0.06      204.9       12.6  \n",
              "1270      34711.19               0.16      171.3       13.0  \n",
              "3460      21462.44               0.12      193.7        4.5  \n",
              "9032      45958.19               0.15      232.0        3.9  \n",
              "302       32521.53               0.21      228.1        4.7  "
            ]
          },
          "execution_count": 18,
          "metadata": {},
          "output_type": "execute_result"
        }
      ]
    },
    {
      "cell_type": "code",
      "metadata": {
        "id": "373f809b-9584-4b7e-b80f-d4f1508e2d9f",
        "outputId": "ffbdb255-c8ce-41ee-b8d0-c91720c6ff55"
      },
      "source": [
        "# Top 5 cars on selling price with Country,Make and Model\n",
        "Top[['Country','Model', 'Make', 'Sale Price']]"
      ],
      "id": "373f809b-9584-4b7e-b80f-d4f1508e2d9f",
      "execution_count": null,
      "outputs": [
        {
          "data": {
            "text/html": [
              "<div>\n",
              "<style scoped>\n",
              "    .dataframe tbody tr th:only-of-type {\n",
              "        vertical-align: middle;\n",
              "    }\n",
              "\n",
              "    .dataframe tbody tr th {\n",
              "        vertical-align: top;\n",
              "    }\n",
              "\n",
              "    .dataframe thead th {\n",
              "        text-align: right;\n",
              "    }\n",
              "</style>\n",
              "<table border=\"1\" class=\"dataframe\">\n",
              "  <thead>\n",
              "    <tr style=\"text-align: right;\">\n",
              "      <th></th>\n",
              "      <th>Country</th>\n",
              "      <th>Model</th>\n",
              "      <th>Make</th>\n",
              "      <th>Sale Price</th>\n",
              "    </tr>\n",
              "  </thead>\n",
              "  <tbody>\n",
              "    <tr>\n",
              "      <th>5984</th>\n",
              "      <td>Russia</td>\n",
              "      <td>Jetta III</td>\n",
              "      <td>Volkswagen</td>\n",
              "      <td>99997.65</td>\n",
              "    </tr>\n",
              "    <tr>\n",
              "      <th>1270</th>\n",
              "      <td>Latvia</td>\n",
              "      <td>A6</td>\n",
              "      <td>Audi</td>\n",
              "      <td>99991.91</td>\n",
              "    </tr>\n",
              "    <tr>\n",
              "      <th>3460</th>\n",
              "      <td>Malaysia</td>\n",
              "      <td>LX</td>\n",
              "      <td>Lexus</td>\n",
              "      <td>99983.38</td>\n",
              "    </tr>\n",
              "    <tr>\n",
              "      <th>9032</th>\n",
              "      <td>Russia</td>\n",
              "      <td>MX-6</td>\n",
              "      <td>Mazda</td>\n",
              "      <td>99978.17</td>\n",
              "    </tr>\n",
              "    <tr>\n",
              "      <th>302</th>\n",
              "      <td>Canada</td>\n",
              "      <td>ES</td>\n",
              "      <td>Lexus</td>\n",
              "      <td>99973.44</td>\n",
              "    </tr>\n",
              "  </tbody>\n",
              "</table>\n",
              "</div>"
            ],
            "text/plain": [
              "       Country      Model        Make  Sale Price\n",
              "5984    Russia  Jetta III  Volkswagen    99997.65\n",
              "1270    Latvia         A6        Audi    99991.91\n",
              "3460  Malaysia         LX       Lexus    99983.38\n",
              "9032    Russia       MX-6       Mazda    99978.17\n",
              "302     Canada         ES       Lexus    99973.44"
            ]
          },
          "execution_count": 10,
          "metadata": {},
          "output_type": "execute_result"
        }
      ]
    },
    {
      "cell_type": "code",
      "metadata": {
        "id": "0bb50940-0d14-4eff-abce-12b15f029f85",
        "outputId": "b3ecabe9-345b-4762-e83a-36a88ce041c1"
      },
      "source": [
        "#printing same in a line\n",
        "\n",
        "start = \"\\033[1m\"\n",
        "end = \"\\033[0;0m\"\n",
        "print('Car models ' + start + ', '.join(list(Top['Model'])) + end + ' made in ' + start + ', '.join(list(Top['Country'].unique())) + end + ' made by ' + start + ', '.join(list(Top['Make'].unique())) + end + ' are in the top 5 positions based on selling price')"
      ],
      "id": "0bb50940-0d14-4eff-abce-12b15f029f85",
      "execution_count": null,
      "outputs": [
        {
          "name": "stdout",
          "output_type": "stream",
          "text": [
            "Car models \u001b[1mJetta III, A6, LX, MX-6, ES\u001b[0;0m made in \u001b[1mRussia, Latvia, Malaysia, Canada\u001b[0;0m made by \u001b[1mVolkswagen, Audi, Lexus, Mazda\u001b[0;0m are in the top 5 positions based on selling price\n"
          ]
        }
      ]
    },
    {
      "cell_type": "code",
      "metadata": {
        "id": "f7afc257-905e-426a-8258-59f293d84e28",
        "outputId": "3e99aefd-8e5f-4178-8197-57038e111d05"
      },
      "source": [
        "tp=sns.barplot(x=\"Model\", y=\"Sale Price\",data=Top)\n",
        "tp.set_xticklabels(Top[\"Make\"] + \" \" + Top[\"Model\"])\n",
        "tp.bar_label(tp.containers[0],label_type='center')\n",
        "tp.set_title('Top 5 cars based on their sales price')\n",
        "plt.tight_layout()"
      ],
      "id": "f7afc257-905e-426a-8258-59f293d84e28",
      "execution_count": null,
      "outputs": [
        {
          "data": {
            "image/png": "[encoded data removed]",
            "text/plain": [
              "<Figure size 720x432 with 1 Axes>"
            ]
          },
          "metadata": {},
          "output_type": "display_data"
        }
      ]
    },
    {
      "cell_type": "markdown",
      "metadata": {
        "id": "77452536-3b10-4cd6-96fe-2c5054b0fc65"
      },
      "source": [
        "# 5.  Find the least 5 cars based on their Resell price. "
      ],
      "id": "77452536-3b10-4cd6-96fe-2c5054b0fc65"
    },
    {
      "cell_type": "code",
      "metadata": {
        "id": "8c3b08cb-cc2a-4987-ab18-cf7ea26d3c92",
        "outputId": "44546bd6-7ffb-40f2-8c0a-8ccaf9639664"
      },
      "source": [
        "#least five prices based on Resell Price\n",
        "df['Resell Price'].nsmallest(5).value_counts()"
      ],
      "id": "8c3b08cb-cc2a-4987-ab18-cf7ea26d3c92",
      "execution_count": null,
      "outputs": [
        {
          "data": {
            "text/plain": [
              "2005.44    1\n",
              "2017.83    1\n",
              "2014.09    1\n",
              "2000.84    1\n",
              "2017.24    1\n",
              "Name: Resell Price, dtype: int64"
            ]
          },
          "execution_count": 13,
          "metadata": {},
          "output_type": "execute_result"
        }
      ]
    },
    {
      "cell_type": "code",
      "metadata": {
        "id": "ccf33ca9-87f1-4165-a056-77ca5e80a423",
        "outputId": "e329b298-5ff0-45f5-9fcd-1b72ebd2097a"
      },
      "source": [
        "#Getting all data based on the Least 5 Resell Price\n",
        "\n",
        "least=df.nsmallest(5, 'Resell Price')\n",
        "least"
      ],
      "id": "ccf33ca9-87f1-4165-a056-77ca5e80a423",
      "execution_count": null,
      "outputs": [
        {
          "data": {
            "text/html": [
              "<div>\n",
              "<style scoped>\n",
              "    .dataframe tbody tr th:only-of-type {\n",
              "        vertical-align: middle;\n",
              "    }\n",
              "\n",
              "    .dataframe tbody tr th {\n",
              "        vertical-align: top;\n",
              "    }\n",
              "\n",
              "    .dataframe thead th {\n",
              "        text-align: right;\n",
              "    }\n",
              "</style>\n",
              "<table border=\"1\" class=\"dataframe\">\n",
              "  <thead>\n",
              "    <tr style=\"text-align: right;\">\n",
              "      <th></th>\n",
              "      <th>Make</th>\n",
              "      <th>Model</th>\n",
              "      <th>Nickname</th>\n",
              "      <th>Car Gender</th>\n",
              "      <th>Buyer Gender</th>\n",
              "      <th>Buyer Age</th>\n",
              "      <th>Buzzword</th>\n",
              "      <th>Country</th>\n",
              "      <th>City</th>\n",
              "      <th>Dealer Latitude</th>\n",
              "      <th>Dealer Longitude</th>\n",
              "      <th>Color</th>\n",
              "      <th>New Car</th>\n",
              "      <th>Purchase Date</th>\n",
              "      <th>Sale Price</th>\n",
              "      <th>Discount</th>\n",
              "      <th>Resell Price</th>\n",
              "      <th>5-yr Depreciation</th>\n",
              "      <th>Top Speed</th>\n",
              "      <th>0-60 Time</th>\n",
              "    </tr>\n",
              "  </thead>\n",
              "  <tbody>\n",
              "    <tr>\n",
              "      <th>2446</th>\n",
              "      <td>Chevrolet</td>\n",
              "      <td>1500</td>\n",
              "      <td>Corenda</td>\n",
              "      <td>Male</td>\n",
              "      <td>Female</td>\n",
              "      <td>25</td>\n",
              "      <td>collaboration</td>\n",
              "      <td>Philippines</td>\n",
              "      <td>Tubigan</td>\n",
              "      <td>8.490877</td>\n",
              "      <td>124.345771</td>\n",
              "      <td>Khaki</td>\n",
              "      <td>False</td>\n",
              "      <td>20/03/2002</td>\n",
              "      <td>49909.44</td>\n",
              "      <td>0.4480</td>\n",
              "      <td>2000.84</td>\n",
              "      <td>0.25</td>\n",
              "      <td>239.6</td>\n",
              "      <td>11.2</td>\n",
              "    </tr>\n",
              "    <tr>\n",
              "      <th>4933</th>\n",
              "      <td>GMC</td>\n",
              "      <td>Savana 1500</td>\n",
              "      <td>Lark</td>\n",
              "      <td>Female</td>\n",
              "      <td>Female</td>\n",
              "      <td>34</td>\n",
              "      <td>interactive</td>\n",
              "      <td>Poland</td>\n",
              "      <td>Śródmieście</td>\n",
              "      <td>53.838651</td>\n",
              "      <td>22.988241</td>\n",
              "      <td>Blue</td>\n",
              "      <td>False</td>\n",
              "      <td>15/04/2010</td>\n",
              "      <td>80084.82</td>\n",
              "      <td>0.2334</td>\n",
              "      <td>2005.44</td>\n",
              "      <td>0.01</td>\n",
              "      <td>158.7</td>\n",
              "      <td>9.0</td>\n",
              "    </tr>\n",
              "    <tr>\n",
              "      <th>566</th>\n",
              "      <td>Jaguar</td>\n",
              "      <td>XF</td>\n",
              "      <td>Payton</td>\n",
              "      <td>Female</td>\n",
              "      <td>Male</td>\n",
              "      <td>64</td>\n",
              "      <td>Visionary</td>\n",
              "      <td>Nigeria</td>\n",
              "      <td>Ikot-Ekpene</td>\n",
              "      <td>5.174447</td>\n",
              "      <td>7.714515</td>\n",
              "      <td>Red</td>\n",
              "      <td>True</td>\n",
              "      <td>26/01/2016</td>\n",
              "      <td>24124.99</td>\n",
              "      <td>0.5328</td>\n",
              "      <td>2014.09</td>\n",
              "      <td>0.19</td>\n",
              "      <td>249.3</td>\n",
              "      <td>6.9</td>\n",
              "    </tr>\n",
              "    <tr>\n",
              "      <th>2538</th>\n",
              "      <td>Mitsubishi</td>\n",
              "      <td>3000GT</td>\n",
              "      <td>Thia</td>\n",
              "      <td>Female</td>\n",
              "      <td>Female</td>\n",
              "      <td>25</td>\n",
              "      <td>well-modulated</td>\n",
              "      <td>China</td>\n",
              "      <td>Yanweigang</td>\n",
              "      <td>34.509325</td>\n",
              "      <td>119.751715</td>\n",
              "      <td>Goldenrod</td>\n",
              "      <td>True</td>\n",
              "      <td>13/02/2011</td>\n",
              "      <td>88195.95</td>\n",
              "      <td>0.0391</td>\n",
              "      <td>2017.24</td>\n",
              "      <td>0.14</td>\n",
              "      <td>222.0</td>\n",
              "      <td>10.3</td>\n",
              "    </tr>\n",
              "    <tr>\n",
              "      <th>5869</th>\n",
              "      <td>Infiniti</td>\n",
              "      <td>G37</td>\n",
              "      <td>Sonny</td>\n",
              "      <td>Male</td>\n",
              "      <td>Male</td>\n",
              "      <td>20</td>\n",
              "      <td>optimizing</td>\n",
              "      <td>France</td>\n",
              "      <td>Clermont-Ferrand</td>\n",
              "      <td>45.786764</td>\n",
              "      <td>3.160264</td>\n",
              "      <td>Indigo</td>\n",
              "      <td>False</td>\n",
              "      <td>24/11/2002</td>\n",
              "      <td>77791.65</td>\n",
              "      <td>0.5691</td>\n",
              "      <td>2017.83</td>\n",
              "      <td>0.04</td>\n",
              "      <td>131.6</td>\n",
              "      <td>12.3</td>\n",
              "    </tr>\n",
              "  </tbody>\n",
              "</table>\n",
              "</div>"
            ],
            "text/plain": [
              "            Make        Model Nickname Car Gender Buyer Gender  Buyer Age  \\\n",
              "2446   Chevrolet         1500  Corenda       Male       Female         25   \n",
              "4933         GMC  Savana 1500     Lark     Female       Female         34   \n",
              "566       Jaguar           XF   Payton     Female         Male         64   \n",
              "2538  Mitsubishi       3000GT     Thia     Female       Female         25   \n",
              "5869    Infiniti          G37    Sonny       Male         Male         20   \n",
              "\n",
              "            Buzzword      Country              City  Dealer Latitude  \\\n",
              "2446   collaboration  Philippines           Tubigan         8.490877   \n",
              "4933     interactive       Poland       Śródmieście        53.838651   \n",
              "566        Visionary      Nigeria       Ikot-Ekpene         5.174447   \n",
              "2538  well-modulated        China        Yanweigang        34.509325   \n",
              "5869      optimizing       France  Clermont-Ferrand        45.786764   \n",
              "\n",
              "      Dealer Longitude      Color  New Car Purchase Date  Sale Price  \\\n",
              "2446        124.345771      Khaki    False    20/03/2002    49909.44   \n",
              "4933         22.988241       Blue    False    15/04/2010    80084.82   \n",
              "566           7.714515        Red     True    26/01/2016    24124.99   \n",
              "2538        119.751715  Goldenrod     True    13/02/2011    88195.95   \n",
              "5869          3.160264     Indigo    False    24/11/2002    77791.65   \n",
              "\n",
              "      Discount  Resell Price  5-yr Depreciation  Top Speed  0-60 Time  \n",
              "2446    0.4480       2000.84               0.25      239.6       11.2  \n",
              "4933    0.2334       2005.44               0.01      158.7        9.0  \n",
              "566     0.5328       2014.09               0.19      249.3        6.9  \n",
              "2538    0.0391       2017.24               0.14      222.0       10.3  \n",
              "5869    0.5691       2017.83               0.04      131.6       12.3  "
            ]
          },
          "execution_count": 14,
          "metadata": {},
          "output_type": "execute_result"
        }
      ]
    },
    {
      "cell_type": "code",
      "metadata": {
        "id": "f6ff9729-298b-4c80-9790-11c607299b11",
        "outputId": "eda3d1ec-4bd1-42e3-cc0c-d04263a1e191"
      },
      "source": [
        "# Least  5 cars based on Resell Price with country,Make and Model\n",
        "\n",
        "least[['Model', 'Make', 'Country', 'Resell Price']]"
      ],
      "id": "f6ff9729-298b-4c80-9790-11c607299b11",
      "execution_count": null,
      "outputs": [
        {
          "data": {
            "text/html": [
              "<div>\n",
              "<style scoped>\n",
              "    .dataframe tbody tr th:only-of-type {\n",
              "        vertical-align: middle;\n",
              "    }\n",
              "\n",
              "    .dataframe tbody tr th {\n",
              "        vertical-align: top;\n",
              "    }\n",
              "\n",
              "    .dataframe thead th {\n",
              "        text-align: right;\n",
              "    }\n",
              "</style>\n",
              "<table border=\"1\" class=\"dataframe\">\n",
              "  <thead>\n",
              "    <tr style=\"text-align: right;\">\n",
              "      <th></th>\n",
              "      <th>Model</th>\n",
              "      <th>Make</th>\n",
              "      <th>Country</th>\n",
              "      <th>Resell Price</th>\n",
              "    </tr>\n",
              "  </thead>\n",
              "  <tbody>\n",
              "    <tr>\n",
              "      <th>2446</th>\n",
              "      <td>1500</td>\n",
              "      <td>Chevrolet</td>\n",
              "      <td>Philippines</td>\n",
              "      <td>2000.84</td>\n",
              "    </tr>\n",
              "    <tr>\n",
              "      <th>4933</th>\n",
              "      <td>Savana 1500</td>\n",
              "      <td>GMC</td>\n",
              "      <td>Poland</td>\n",
              "      <td>2005.44</td>\n",
              "    </tr>\n",
              "    <tr>\n",
              "      <th>566</th>\n",
              "      <td>XF</td>\n",
              "      <td>Jaguar</td>\n",
              "      <td>Nigeria</td>\n",
              "      <td>2014.09</td>\n",
              "    </tr>\n",
              "    <tr>\n",
              "      <th>2538</th>\n",
              "      <td>3000GT</td>\n",
              "      <td>Mitsubishi</td>\n",
              "      <td>China</td>\n",
              "      <td>2017.24</td>\n",
              "    </tr>\n",
              "    <tr>\n",
              "      <th>5869</th>\n",
              "      <td>G37</td>\n",
              "      <td>Infiniti</td>\n",
              "      <td>France</td>\n",
              "      <td>2017.83</td>\n",
              "    </tr>\n",
              "  </tbody>\n",
              "</table>\n",
              "</div>"
            ],
            "text/plain": [
              "            Model        Make      Country  Resell Price\n",
              "2446         1500   Chevrolet  Philippines       2000.84\n",
              "4933  Savana 1500         GMC       Poland       2005.44\n",
              "566            XF      Jaguar      Nigeria       2014.09\n",
              "2538       3000GT  Mitsubishi        China       2017.24\n",
              "5869          G37    Infiniti       France       2017.83"
            ]
          },
          "execution_count": 15,
          "metadata": {},
          "output_type": "execute_result"
        }
      ]
    },
    {
      "cell_type": "code",
      "metadata": {
        "id": "28209cb1-d48e-4f17-b0b0-8f740bcda848",
        "outputId": "2ab9fd12-4972-48f0-a4c8-0f2dac92ef47"
      },
      "source": [
        "start = \"\\033[1m\"\n",
        "end = \"\\033[0;0m\"\n",
        "print('Car models ' + start + ', '.join(list (least['Model'],)) + end + ' made in ' + start + ', '.join(list(least['Country'].unique())) + end + ' made by ' + start + ', '.join(list(least['Make'].unique())) + end + ' are in the least 5 positions based on Relling price')"
      ],
      "id": "28209cb1-d48e-4f17-b0b0-8f740bcda848",
      "execution_count": null,
      "outputs": [
        {
          "name": "stdout",
          "output_type": "stream",
          "text": [
            "Car models \u001b[1m1500, Savana 1500, XF, 3000GT, G37\u001b[0;0m made in \u001b[1mPhilippines, Poland, Nigeria, China, France\u001b[0;0m made by \u001b[1mChevrolet, GMC, Jaguar, Mitsubishi, Infiniti\u001b[0;0m are in the least 5 positions based on Relling price\n"
          ]
        }
      ]
    },
    {
      "cell_type": "code",
      "metadata": {
        "id": "06959c94-12de-4b5d-9b83-2dda9b6cf293",
        "outputId": "bed49659-3bad-4ac1-9a76-802eb0f2b1ec"
      },
      "source": [
        "fig=sns.barplot(x=\"Model\", y=\"Resell Price\",data=least)\n",
        "fig.set_xticklabels(least[\"Make\"] + \" \" + least[\"Model\"])\n",
        "fig.set_title('Least 5 cars based on their Reselling price')\n",
        "fig.bar_label(fig.containers[0],label_type='center')\n",
        "plt.tight_layout()"
      ],
      "id": "06959c94-12de-4b5d-9b83-2dda9b6cf293",
      "execution_count": null,
      "outputs": [
        {
          "data": {
            "image/png": "[encoded data removed]",
            "text/plain": [
              "<Figure size 720x432 with 1 Axes>"
            ]
          },
          "metadata": {},
          "output_type": "display_data"
        }
      ]
    },
    {
      "cell_type": "code",
      "metadata": {
        "id": "3b7c7710-571b-45ab-894a-b957b295dff6"
      },
      "source": [
        ""
      ],
      "id": "3b7c7710-571b-45ab-894a-b957b295dff6",
      "execution_count": null,
      "outputs": []
    }
  ]
}