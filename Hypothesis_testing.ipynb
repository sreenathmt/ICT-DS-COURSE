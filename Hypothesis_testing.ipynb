{
  "cells": [
    {
      "cell_type": "markdown",
      "metadata": {
        "id": "view-in-github",
        "colab_type": "text"
      },
      "source": [
        "<a href=\"https://colab.research.google.com/github/sreenathmt/ICT-DS-COURSE/blob/main/Hypothesis_testing.ipynb\" target=\"_parent\"><img src=\"https://colab.research.google.com/assets/colab-badge.svg\" alt=\"Open In Colab\"/></a>"
      ]
    },
    {
      "cell_type": "markdown",
      "id": "145d0af0-2e1b-43e3-813c-090a16ae1005",
      "metadata": {
        "id": "145d0af0-2e1b-43e3-813c-090a16ae1005"
      },
      "source": [
        "# Case Study on Testing of Hypothesis\n",
        "A company started to invest in digital marketing as a new way of their product promotions. For that they collected data and decided to carry out a study on it.\n",
        "\n",
        "● The company wishes to clarify whether there is any increase in sales after stepping into digital marketing.\n",
        "● The company needs to check whether there is any dependency between the features “Region” and “Manager”.\n",
        "."
      ]
    },
    {
      "cell_type": "code",
      "execution_count": null,
      "id": "8b1a4c28-ae38-469d-9e60-785a9a3c96d7",
      "metadata": {
        "id": "8b1a4c28-ae38-469d-9e60-785a9a3c96d7"
      },
      "outputs": [],
      "source": [
        "import  pandas as pd\n",
        "import numpy as np\n",
        "import seaborn as sns\n",
        "import scipy as sp\n",
        "import matplotlib.pyplot as plt\n",
        "import scipy.stats as stats"
      ]
    },
    {
      "cell_type": "code",
      "execution_count": null,
      "id": "e3ed6a22-df20-4259-a531-78e0d496413c",
      "metadata": {
        "id": "e3ed6a22-df20-4259-a531-78e0d496413c",
        "outputId": "4cfe6563-cdf3-44d2-d5ba-e84a8a2f7d2c"
      },
      "outputs": [
        {
          "data": {
            "text/html": [
              "<div>\n",
              "<style scoped>\n",
              "    .dataframe tbody tr th:only-of-type {\n",
              "        vertical-align: middle;\n",
              "    }\n",
              "\n",
              "    .dataframe tbody tr th {\n",
              "        vertical-align: top;\n",
              "    }\n",
              "\n",
              "    .dataframe thead th {\n",
              "        text-align: right;\n",
              "    }\n",
              "</style>\n",
              "<table border=\"1\" class=\"dataframe\">\n",
              "  <thead>\n",
              "    <tr style=\"text-align: right;\">\n",
              "      <th></th>\n",
              "      <th>Month</th>\n",
              "      <th>Region</th>\n",
              "      <th>Manager</th>\n",
              "      <th>Sales_before_digital_add(in $)</th>\n",
              "      <th>Sales_After_digital_add(in $)</th>\n",
              "    </tr>\n",
              "  </thead>\n",
              "  <tbody>\n",
              "    <tr>\n",
              "      <th>0</th>\n",
              "      <td>Month-1</td>\n",
              "      <td>Region - A</td>\n",
              "      <td>Manager - A</td>\n",
              "      <td>132921</td>\n",
              "      <td>270390</td>\n",
              "    </tr>\n",
              "    <tr>\n",
              "      <th>1</th>\n",
              "      <td>Month-2</td>\n",
              "      <td>Region - A</td>\n",
              "      <td>Manager - C</td>\n",
              "      <td>149559</td>\n",
              "      <td>223334</td>\n",
              "    </tr>\n",
              "    <tr>\n",
              "      <th>2</th>\n",
              "      <td>Month-3</td>\n",
              "      <td>Region - B</td>\n",
              "      <td>Manager - A</td>\n",
              "      <td>146278</td>\n",
              "      <td>244243</td>\n",
              "    </tr>\n",
              "    <tr>\n",
              "      <th>3</th>\n",
              "      <td>Month-4</td>\n",
              "      <td>Region - B</td>\n",
              "      <td>Manager - B</td>\n",
              "      <td>152167</td>\n",
              "      <td>231808</td>\n",
              "    </tr>\n",
              "    <tr>\n",
              "      <th>4</th>\n",
              "      <td>Month-5</td>\n",
              "      <td>Region - C</td>\n",
              "      <td>Manager - B</td>\n",
              "      <td>159525</td>\n",
              "      <td>258402</td>\n",
              "    </tr>\n",
              "  </tbody>\n",
              "</table>\n",
              "</div>"
            ],
            "text/plain": [
              "     Month      Region      Manager  Sales_before_digital_add(in $)  \\\n",
              "0  Month-1  Region - A  Manager - A                          132921   \n",
              "1  Month-2  Region - A  Manager - C                          149559   \n",
              "2  Month-3  Region - B  Manager - A                          146278   \n",
              "3  Month-4  Region - B  Manager - B                          152167   \n",
              "4  Month-5  Region - C  Manager - B                          159525   \n",
              "\n",
              "   Sales_After_digital_add(in $)  \n",
              "0                         270390  \n",
              "1                         223334  \n",
              "2                         244243  \n",
              "3                         231808  \n",
              "4                         258402  "
            ]
          },
          "execution_count": 2,
          "metadata": {},
          "output_type": "execute_result"
        }
      ],
      "source": [
        "df=pd.read_csv('Sales_add.csv')\n",
        "df.head()"
      ]
    },
    {
      "cell_type": "code",
      "execution_count": null,
      "id": "d1d19a8c-a840-4b65-bd5e-e740a188b1b6",
      "metadata": {
        "id": "d1d19a8c-a840-4b65-bd5e-e740a188b1b6",
        "outputId": "abc8d2d3-7b7e-4259-c308-0c1433f594d5"
      },
      "outputs": [
        {
          "name": "stdout",
          "output_type": "stream",
          "text": [
            "<class 'pandas.core.frame.DataFrame'>\n",
            "RangeIndex: 22 entries, 0 to 21\n",
            "Data columns (total 5 columns):\n",
            " #   Column                          Non-Null Count  Dtype \n",
            "---  ------                          --------------  ----- \n",
            " 0   Month                           22 non-null     object\n",
            " 1   Region                          22 non-null     object\n",
            " 2   Manager                         22 non-null     object\n",
            " 3   Sales_before_digital_add(in $)  22 non-null     int64 \n",
            " 4   Sales_After_digital_add(in $)   22 non-null     int64 \n",
            "dtypes: int64(2), object(3)\n",
            "memory usage: 1008.0+ bytes\n"
          ]
        }
      ],
      "source": [
        "df.info()"
      ]
    },
    {
      "cell_type": "code",
      "execution_count": null,
      "id": "e54c108f-d7d9-45ec-8f9a-6f7415acf4cb",
      "metadata": {
        "id": "e54c108f-d7d9-45ec-8f9a-6f7415acf4cb",
        "outputId": "cabbfc24-1cc6-4db8-b331-fde7e36b2552"
      },
      "outputs": [
        {
          "data": {
            "text/html": [
              "<div>\n",
              "<style scoped>\n",
              "    .dataframe tbody tr th:only-of-type {\n",
              "        vertical-align: middle;\n",
              "    }\n",
              "\n",
              "    .dataframe tbody tr th {\n",
              "        vertical-align: top;\n",
              "    }\n",
              "\n",
              "    .dataframe thead th {\n",
              "        text-align: right;\n",
              "    }\n",
              "</style>\n",
              "<table border=\"1\" class=\"dataframe\">\n",
              "  <thead>\n",
              "    <tr style=\"text-align: right;\">\n",
              "      <th></th>\n",
              "      <th>Sales_before_digital_add(in $)</th>\n",
              "      <th>Sales_After_digital_add(in $)</th>\n",
              "    </tr>\n",
              "  </thead>\n",
              "  <tbody>\n",
              "    <tr>\n",
              "      <th>count</th>\n",
              "      <td>22.000000</td>\n",
              "      <td>22.000000</td>\n",
              "    </tr>\n",
              "    <tr>\n",
              "      <th>mean</th>\n",
              "      <td>149239.954545</td>\n",
              "      <td>231123.727273</td>\n",
              "    </tr>\n",
              "    <tr>\n",
              "      <th>std</th>\n",
              "      <td>14844.042921</td>\n",
              "      <td>25556.777061</td>\n",
              "    </tr>\n",
              "    <tr>\n",
              "      <th>min</th>\n",
              "      <td>130263.000000</td>\n",
              "      <td>187305.000000</td>\n",
              "    </tr>\n",
              "    <tr>\n",
              "      <th>25%</th>\n",
              "      <td>138087.750000</td>\n",
              "      <td>214960.750000</td>\n",
              "    </tr>\n",
              "    <tr>\n",
              "      <th>50%</th>\n",
              "      <td>147444.000000</td>\n",
              "      <td>229986.500000</td>\n",
              "    </tr>\n",
              "    <tr>\n",
              "      <th>75%</th>\n",
              "      <td>157627.500000</td>\n",
              "      <td>250909.000000</td>\n",
              "    </tr>\n",
              "    <tr>\n",
              "      <th>max</th>\n",
              "      <td>178939.000000</td>\n",
              "      <td>276279.000000</td>\n",
              "    </tr>\n",
              "  </tbody>\n",
              "</table>\n",
              "</div>"
            ],
            "text/plain": [
              "       Sales_before_digital_add(in $)  Sales_After_digital_add(in $)\n",
              "count                       22.000000                      22.000000\n",
              "mean                    149239.954545                  231123.727273\n",
              "std                      14844.042921                   25556.777061\n",
              "min                     130263.000000                  187305.000000\n",
              "25%                     138087.750000                  214960.750000\n",
              "50%                     147444.000000                  229986.500000\n",
              "75%                     157627.500000                  250909.000000\n",
              "max                     178939.000000                  276279.000000"
            ]
          },
          "execution_count": 4,
          "metadata": {},
          "output_type": "execute_result"
        }
      ],
      "source": [
        "df[['Sales_before_digital_add(in $)','Sales_After_digital_add(in $)']].describe()"
      ]
    },
    {
      "cell_type": "code",
      "execution_count": null,
      "id": "f30a7bdd-99ab-4a04-b090-2aea36d40d2f",
      "metadata": {
        "id": "f30a7bdd-99ab-4a04-b090-2aea36d40d2f",
        "outputId": "a77cf890-b0fe-4c63-f8ff-ec9f03aeeada"
      },
      "outputs": [
        {
          "data": {
            "text/plain": [
              "(22, 5)"
            ]
          },
          "execution_count": 5,
          "metadata": {},
          "output_type": "execute_result"
        }
      ],
      "source": [
        "df.shape"
      ]
    },
    {
      "cell_type": "markdown",
      "id": "bc04eab0-bac2-4ab0-9457-d8e873eb4e66",
      "metadata": {
        "id": "bc04eab0-bac2-4ab0-9457-d8e873eb4e66"
      },
      "source": [
        "## The company wishes to clarify whether there is any increase in sales after stepping into digital marketing."
      ]
    },
    {
      "cell_type": "markdown",
      "id": "2810ccd3-46b2-474d-a93b-bc5c69ce2bb0",
      "metadata": {
        "id": "2810ccd3-46b2-474d-a93b-bc5c69ce2bb0"
      },
      "source": [
        " We will go with T test to check the hypothethis since sample size is below 30"
      ]
    },
    {
      "cell_type": "code",
      "execution_count": null,
      "id": "9fdde217-6772-48ed-81c3-feaadda30b57",
      "metadata": {
        "id": "9fdde217-6772-48ed-81c3-feaadda30b57"
      },
      "outputs": [],
      "source": [
        "# Setup Hypothesis\n",
        "# H0: There is increase in sales after stepping to digital marketing\n",
        "# H1: There is no increase in sales after stepping to digital marketing"
      ]
    },
    {
      "cell_type": "code",
      "execution_count": null,
      "id": "f000b6ec-d08f-4a1a-bd77-33670f1ee473",
      "metadata": {
        "id": "f000b6ec-d08f-4a1a-bd77-33670f1ee473"
      },
      "outputs": [],
      "source": [
        "sl_bfadd=df['Sales_before_digital_add(in $)']\n",
        "sl_afadd=df['Sales_After_digital_add(in $)']"
      ]
    },
    {
      "cell_type": "code",
      "execution_count": null,
      "id": "1e7572de-0a5f-45b4-9cea-2b95779853bb",
      "metadata": {
        "id": "1e7572de-0a5f-45b4-9cea-2b95779853bb",
        "outputId": "fef3db27-1f5d-4e3b-d99f-8361b1458284"
      },
      "outputs": [
        {
          "data": {
            "text/plain": [
              "Ttest_indResult(statistic=-12.995084451110877, pvalue=2.614368006904645e-16)"
            ]
          },
          "execution_count": 8,
          "metadata": {},
          "output_type": "execute_result"
        }
      ],
      "source": [
        "tvalue, pvalue = stats.ttest_ind(sl_bfadd,sl_afadd)\n",
        "stats.ttest_ind(sl_bfadd,sl_afadd)"
      ]
    },
    {
      "cell_type": "code",
      "execution_count": null,
      "id": "dcb6077e-6bc4-43da-b9d6-85c02d6370dd",
      "metadata": {
        "id": "dcb6077e-6bc4-43da-b9d6-85c02d6370dd",
        "outputId": "d6ddc4aa-be2d-43a2-e518-384d26c1119c"
      },
      "outputs": [
        {
          "data": {
            "text/plain": [
              "1.68385101138658"
            ]
          },
          "execution_count": 9,
          "metadata": {},
          "output_type": "execute_result"
        }
      ],
      "source": [
        "# 2-tailed t test\n",
        "t_critical=stats.t.ppf(1-0.05,40)\n",
        "stats.t.ppf(1-0.05,40)"
      ]
    },
    {
      "cell_type": "code",
      "execution_count": null,
      "id": "9e0896d3-d1e5-4d8f-a97f-e34cf2861847",
      "metadata": {
        "id": "9e0896d3-d1e5-4d8f-a97f-e34cf2861847",
        "outputId": "d3616a0b-1fd7-4683-ebac-75643dacad9b"
      },
      "outputs": [
        {
          "name": "stdout",
          "output_type": "stream",
          "text": [
            "Reject H1: there is no increase in sales after stepping into digital marketing\n"
          ]
        }
      ],
      "source": [
        "# checking Hypothesis condition\n",
        "if (tvalue>t_critical and pvalue <0.05):\n",
        "    print('Reject H0: there is increase in sales after stepping into digital marketing')\n",
        "else:\n",
        "    print('Reject H1: there is no increase in sales after stepping into digital marketing')"
      ]
    },
    {
      "cell_type": "markdown",
      "id": "5a5a98b4-8fb5-4dde-8349-2ba435541f0b",
      "metadata": {
        "id": "5a5a98b4-8fb5-4dde-8349-2ba435541f0b"
      },
      "source": [
        "*From* the above test there is increase in Sales after stepping into digital marketing\n"
      ]
    },
    {
      "cell_type": "markdown",
      "id": "a938d021-3db3-4af8-913a-64c06150e4ac",
      "metadata": {
        "id": "a938d021-3db3-4af8-913a-64c06150e4ac"
      },
      "source": [
        "# The company needs to check whether there is any dependency between the features “Region” and “Manager”."
      ]
    },
    {
      "cell_type": "code",
      "execution_count": null,
      "id": "c115b585-bc23-4497-b92c-654fb4ee38b7",
      "metadata": {
        "id": "c115b585-bc23-4497-b92c-654fb4ee38b7",
        "outputId": "d737ebd7-8f36-440b-de53-8331784d5eb6"
      },
      "outputs": [
        {
          "data": {
            "text/html": [
              "<div>\n",
              "<style scoped>\n",
              "    .dataframe tbody tr th:only-of-type {\n",
              "        vertical-align: middle;\n",
              "    }\n",
              "\n",
              "    .dataframe tbody tr th {\n",
              "        vertical-align: top;\n",
              "    }\n",
              "\n",
              "    .dataframe thead th {\n",
              "        text-align: right;\n",
              "    }\n",
              "</style>\n",
              "<table border=\"1\" class=\"dataframe\">\n",
              "  <thead>\n",
              "    <tr style=\"text-align: right;\">\n",
              "      <th></th>\n",
              "      <th></th>\n",
              "      <th>Month</th>\n",
              "      <th>Sales_before_digital_add(in $)</th>\n",
              "      <th>Sales_After_digital_add(in $)</th>\n",
              "    </tr>\n",
              "    <tr>\n",
              "      <th>Region</th>\n",
              "      <th>Manager</th>\n",
              "      <th></th>\n",
              "      <th></th>\n",
              "      <th></th>\n",
              "    </tr>\n",
              "  </thead>\n",
              "  <tbody>\n",
              "    <tr>\n",
              "      <th rowspan=\"3\" valign=\"top\">Region - A</th>\n",
              "      <th>Manager - A</th>\n",
              "      <td>4</td>\n",
              "      <td>4</td>\n",
              "      <td>4</td>\n",
              "    </tr>\n",
              "    <tr>\n",
              "      <th>Manager - B</th>\n",
              "      <td>3</td>\n",
              "      <td>3</td>\n",
              "      <td>3</td>\n",
              "    </tr>\n",
              "    <tr>\n",
              "      <th>Manager - C</th>\n",
              "      <td>3</td>\n",
              "      <td>3</td>\n",
              "      <td>3</td>\n",
              "    </tr>\n",
              "    <tr>\n",
              "      <th rowspan=\"3\" valign=\"top\">Region - B</th>\n",
              "      <th>Manager - A</th>\n",
              "      <td>4</td>\n",
              "      <td>4</td>\n",
              "      <td>4</td>\n",
              "    </tr>\n",
              "    <tr>\n",
              "      <th>Manager - B</th>\n",
              "      <td>1</td>\n",
              "      <td>1</td>\n",
              "      <td>1</td>\n",
              "    </tr>\n",
              "    <tr>\n",
              "      <th>Manager - C</th>\n",
              "      <td>2</td>\n",
              "      <td>2</td>\n",
              "      <td>2</td>\n",
              "    </tr>\n",
              "    <tr>\n",
              "      <th rowspan=\"3\" valign=\"top\">Region - C</th>\n",
              "      <th>Manager - A</th>\n",
              "      <td>1</td>\n",
              "      <td>1</td>\n",
              "      <td>1</td>\n",
              "    </tr>\n",
              "    <tr>\n",
              "      <th>Manager - B</th>\n",
              "      <td>3</td>\n",
              "      <td>3</td>\n",
              "      <td>3</td>\n",
              "    </tr>\n",
              "    <tr>\n",
              "      <th>Manager - C</th>\n",
              "      <td>1</td>\n",
              "      <td>1</td>\n",
              "      <td>1</td>\n",
              "    </tr>\n",
              "  </tbody>\n",
              "</table>\n",
              "</div>"
            ],
            "text/plain": [
              "                        Month  Sales_before_digital_add(in $)  \\\n",
              "Region     Manager                                              \n",
              "Region - A Manager - A      4                               4   \n",
              "           Manager - B      3                               3   \n",
              "           Manager - C      3                               3   \n",
              "Region - B Manager - A      4                               4   \n",
              "           Manager - B      1                               1   \n",
              "           Manager - C      2                               2   \n",
              "Region - C Manager - A      1                               1   \n",
              "           Manager - B      3                               3   \n",
              "           Manager - C      1                               1   \n",
              "\n",
              "                        Sales_After_digital_add(in $)  \n",
              "Region     Manager                                     \n",
              "Region - A Manager - A                              4  \n",
              "           Manager - B                              3  \n",
              "           Manager - C                              3  \n",
              "Region - B Manager - A                              4  \n",
              "           Manager - B                              1  \n",
              "           Manager - C                              2  \n",
              "Region - C Manager - A                              1  \n",
              "           Manager - B                              3  \n",
              "           Manager - C                              1  "
            ]
          },
          "execution_count": 11,
          "metadata": {},
          "output_type": "execute_result"
        }
      ],
      "source": [
        "df.groupby(['Region','Manager']).count() "
      ]
    },
    {
      "cell_type": "code",
      "execution_count": null,
      "id": "c038fa9b-9878-4e50-8df0-fd4dc1ce2974",
      "metadata": {
        "id": "c038fa9b-9878-4e50-8df0-fd4dc1ce2974",
        "outputId": "b458f826-5f45-4405-8a27-46e7fcfbbacd"
      },
      "outputs": [
        {
          "data": {
            "text/html": [
              "<div>\n",
              "<style scoped>\n",
              "    .dataframe tbody tr th:only-of-type {\n",
              "        vertical-align: middle;\n",
              "    }\n",
              "\n",
              "    .dataframe tbody tr th {\n",
              "        vertical-align: top;\n",
              "    }\n",
              "\n",
              "    .dataframe thead th {\n",
              "        text-align: right;\n",
              "    }\n",
              "</style>\n",
              "<table border=\"1\" class=\"dataframe\">\n",
              "  <thead>\n",
              "    <tr style=\"text-align: right;\">\n",
              "      <th>Manager</th>\n",
              "      <th>Manager - A</th>\n",
              "      <th>Manager - B</th>\n",
              "      <th>Manager - C</th>\n",
              "    </tr>\n",
              "    <tr>\n",
              "      <th>Region</th>\n",
              "      <th></th>\n",
              "      <th></th>\n",
              "      <th></th>\n",
              "    </tr>\n",
              "  </thead>\n",
              "  <tbody>\n",
              "    <tr>\n",
              "      <th>Region - A</th>\n",
              "      <td>4</td>\n",
              "      <td>3</td>\n",
              "      <td>3</td>\n",
              "    </tr>\n",
              "    <tr>\n",
              "      <th>Region - B</th>\n",
              "      <td>4</td>\n",
              "      <td>1</td>\n",
              "      <td>2</td>\n",
              "    </tr>\n",
              "    <tr>\n",
              "      <th>Region - C</th>\n",
              "      <td>1</td>\n",
              "      <td>3</td>\n",
              "      <td>1</td>\n",
              "    </tr>\n",
              "  </tbody>\n",
              "</table>\n",
              "</div>"
            ],
            "text/plain": [
              "Manager     Manager - A  Manager - B  Manager - C\n",
              "Region                                           \n",
              "Region - A            4            3            3\n",
              "Region - B            4            1            2\n",
              "Region - C            1            3            1"
            ]
          },
          "execution_count": 12,
          "metadata": {},
          "output_type": "execute_result"
        }
      ],
      "source": [
        "df1=df.groupby('Region')['Manager'].value_counts().unstack()\n",
        "df1"
      ]
    },
    {
      "cell_type": "code",
      "execution_count": null,
      "id": "3bd966ca-385b-405e-9f49-0adf6c3daec5",
      "metadata": {
        "id": "3bd966ca-385b-405e-9f49-0adf6c3daec5"
      },
      "outputs": [],
      "source": [
        "chivalue, pvalue, dof, expvalues = stats.chi2_contingency(df1)"
      ]
    },
    {
      "cell_type": "code",
      "execution_count": null,
      "id": "8ae6d64b-e06c-4173-b52e-58b5a06732aa",
      "metadata": {
        "id": "8ae6d64b-e06c-4173-b52e-58b5a06732aa",
        "outputId": "cad6a237-cd8b-4870-b3cf-2a61b6f447fb"
      },
      "outputs": [
        {
          "name": "stdout",
          "output_type": "stream",
          "text": [
            "Chi sqaure Test Statistic: 3.050566893424036\n",
            "Pvalue of test data; 0.5493991051158094\n",
            "Degrees of Freedom: 4\n",
            "Expected observations of data: [[4.09090909 3.18181818 2.72727273]\n",
            " [2.86363636 2.22727273 1.90909091]\n",
            " [2.04545455 1.59090909 1.36363636]]\n"
          ]
        }
      ],
      "source": [
        "# Print Chi-Square Test of Independence values\n",
        "print('Chi sqaure Test Statistic:',chivalue)\n",
        "print('Pvalue of test data;',pvalue)\n",
        "print('Degrees of Freedom:',dof)\n",
        "print('Expected observations of data:',expvalues)"
      ]
    },
    {
      "cell_type": "code",
      "execution_count": null,
      "id": "a5ce5093-51d7-40ce-9ea5-23111f957903",
      "metadata": {
        "id": "a5ce5093-51d7-40ce-9ea5-23111f957903",
        "outputId": "6c48d461-f1e1-4068-d12c-2a87ee2708ba"
      },
      "outputs": [
        {
          "name": "stdout",
          "output_type": "stream",
          "text": [
            "9.487729036781154\n"
          ]
        }
      ],
      "source": [
        "chi_cval=stats.chi2.ppf(1-0.05,4)\n",
        "print(chi_cval)"
      ]
    },
    {
      "cell_type": "code",
      "execution_count": null,
      "id": "e8e0813a-94da-4096-865f-02841742edc9",
      "metadata": {
        "id": "e8e0813a-94da-4096-865f-02841742edc9",
        "outputId": "579cb8c8-dcaf-4a84-9559-23923bdd88ee"
      },
      "outputs": [
        {
          "name": "stdout",
          "output_type": "stream",
          "text": [
            "Reject H1: Region and Manager features are dependent\n"
          ]
        }
      ],
      "source": [
        "if(chivalue>chi_cval and pvalue<0.05):\n",
        "    print('Reject H0: Region and Manager features are independent')\n",
        "else:\n",
        "    print('Reject H1: Region and Manager features are dependent')"
      ]
    },
    {
      "cell_type": "markdown",
      "id": "65d4a4b2-cfc1-44cd-924e-59b294d9309d",
      "metadata": {
        "id": "65d4a4b2-cfc1-44cd-924e-59b294d9309d"
      },
      "source": [
        "As per above test there is no dependency between the features “Region” and “Manager”"
      ]
    }
  ],
  "metadata": {
    "kernelspec": {
      "display_name": "Python 3",
      "language": "python",
      "name": "python3"
    },
    "language_info": {
      "codemirror_mode": {
        "name": "ipython",
        "version": 3
      },
      "file_extension": ".py",
      "mimetype": "text/x-python",
      "name": "python",
      "nbconvert_exporter": "python",
      "pygments_lexer": "ipython3",
      "version": "3.8.8"
    },
    "colab": {
      "name": "Hypothesis_testing.ipynb",
      "provenance": [],
      "include_colab_link": true
    }
  },
  "nbformat": 4,
  "nbformat_minor": 5
}