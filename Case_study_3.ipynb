{
  "cells": [
    {
      "cell_type": "markdown",
      "metadata": {
        "id": "view-in-github",
        "colab_type": "text"
      },
      "source": [
        "<a href=\"https://colab.research.google.com/github/sreenathmt/ICT-DS-COURSE/blob/main/Case_study_3.ipynb\" target=\"_parent\"><img src=\"https://colab.research.google.com/assets/colab-badge.svg\" alt=\"Open In Colab\"/></a>"
      ]
    },
    {
      "cell_type": "code",
      "execution_count": null,
      "id": "732de8b2-6979-4d8c-ac59-62f1d0bc3b27",
      "metadata": {
        "id": "732de8b2-6979-4d8c-ac59-62f1d0bc3b27"
      },
      "outputs": [],
      "source": [
        "import pandas as pd\n",
        "import numpy as np\n",
        "import matplotlib.pyplot as plt\n",
        "import seaborn as sns"
      ]
    },
    {
      "cell_type": "code",
      "execution_count": null,
      "id": "91a72a12-ddc5-47fa-aefd-3dd6b4cd1e3c",
      "metadata": {
        "id": "91a72a12-ddc5-47fa-aefd-3dd6b4cd1e3c"
      },
      "outputs": [],
      "source": [
        "df=pd.read_csv('Add_sales_data_2018.csv')"
      ]
    },
    {
      "cell_type": "code",
      "execution_count": null,
      "id": "f8609a15-619c-40e6-9f84-8cf67ec77a80",
      "metadata": {
        "id": "f8609a15-619c-40e6-9f84-8cf67ec77a80",
        "outputId": "182d4291-2ec7-4862-a342-d7f3f1fdb2d1"
      },
      "outputs": [
        {
          "data": {
            "text/html": [
              "<div>\n",
              "<style scoped>\n",
              "    .dataframe tbody tr th:only-of-type {\n",
              "        vertical-align: middle;\n",
              "    }\n",
              "\n",
              "    .dataframe tbody tr th {\n",
              "        vertical-align: top;\n",
              "    }\n",
              "\n",
              "    .dataframe thead th {\n",
              "        text-align: right;\n",
              "    }\n",
              "</style>\n",
              "<table border=\"1\" class=\"dataframe\">\n",
              "  <thead>\n",
              "    <tr style=\"text-align: right;\">\n",
              "      <th></th>\n",
              "      <th>Date</th>\n",
              "      <th>Add1(in Thousands)</th>\n",
              "      <th>Add2(in Thousands)</th>\n",
              "      <th>Add3(in Thousands)</th>\n",
              "      <th>Add4(in Thousands)</th>\n",
              "      <th>Add5(in Thousands)</th>\n",
              "      <th>Profit(in Thousands)</th>\n",
              "    </tr>\n",
              "  </thead>\n",
              "  <tbody>\n",
              "    <tr>\n",
              "      <th>0</th>\n",
              "      <td>2018-10-08</td>\n",
              "      <td>208.00</td>\n",
              "      <td>222.25</td>\n",
              "      <td>206.85</td>\n",
              "      <td>216.00</td>\n",
              "      <td>215.15</td>\n",
              "      <td>4093.065</td>\n",
              "    </tr>\n",
              "    <tr>\n",
              "      <th>1</th>\n",
              "      <td>2018-10-05</td>\n",
              "      <td>217.00</td>\n",
              "      <td>218.60</td>\n",
              "      <td>205.90</td>\n",
              "      <td>210.25</td>\n",
              "      <td>209.20</td>\n",
              "      <td>4042.448</td>\n",
              "    </tr>\n",
              "    <tr>\n",
              "      <th>2</th>\n",
              "      <td>2018-10-04</td>\n",
              "      <td>223.50</td>\n",
              "      <td>227.80</td>\n",
              "      <td>216.15</td>\n",
              "      <td>217.25</td>\n",
              "      <td>218.20</td>\n",
              "      <td>4213.819</td>\n",
              "    </tr>\n",
              "    <tr>\n",
              "      <th>3</th>\n",
              "      <td>2018-10-03</td>\n",
              "      <td>230.00</td>\n",
              "      <td>237.50</td>\n",
              "      <td>225.75</td>\n",
              "      <td>226.45</td>\n",
              "      <td>227.60</td>\n",
              "      <td>4391.665</td>\n",
              "    </tr>\n",
              "    <tr>\n",
              "      <th>4</th>\n",
              "      <td>2018-10-01</td>\n",
              "      <td>234.55</td>\n",
              "      <td>234.60</td>\n",
              "      <td>221.05</td>\n",
              "      <td>230.30</td>\n",
              "      <td>230.90</td>\n",
              "      <td>4350.683</td>\n",
              "    </tr>\n",
              "    <tr>\n",
              "      <th>...</th>\n",
              "      <td>...</td>\n",
              "      <td>...</td>\n",
              "      <td>...</td>\n",
              "      <td>...</td>\n",
              "      <td>...</td>\n",
              "      <td>...</td>\n",
              "      <td>...</td>\n",
              "    </tr>\n",
              "    <tr>\n",
              "      <th>200</th>\n",
              "      <td>2017-12-14</td>\n",
              "      <td>288.00</td>\n",
              "      <td>288.25</td>\n",
              "      <td>279.20</td>\n",
              "      <td>284.50</td>\n",
              "      <td>284.30</td>\n",
              "      <td>5374.105</td>\n",
              "    </tr>\n",
              "    <tr>\n",
              "      <th>201</th>\n",
              "      <td>2017-12-13</td>\n",
              "      <td>290.00</td>\n",
              "      <td>292.50</td>\n",
              "      <td>282.20</td>\n",
              "      <td>284.80</td>\n",
              "      <td>284.45</td>\n",
              "      <td>5439.655</td>\n",
              "    </tr>\n",
              "    <tr>\n",
              "      <th>202</th>\n",
              "      <td>2017-12-12</td>\n",
              "      <td>298.60</td>\n",
              "      <td>298.60</td>\n",
              "      <td>286.65</td>\n",
              "      <td>287.45</td>\n",
              "      <td>287.80</td>\n",
              "      <td>5545.013</td>\n",
              "    </tr>\n",
              "    <tr>\n",
              "      <th>203</th>\n",
              "      <td>2017-12-11</td>\n",
              "      <td>290.00</td>\n",
              "      <td>299.55</td>\n",
              "      <td>285.90</td>\n",
              "      <td>297.85</td>\n",
              "      <td>298.35</td>\n",
              "      <td>5565.444</td>\n",
              "    </tr>\n",
              "    <tr>\n",
              "      <th>204</th>\n",
              "      <td>2017-12-08</td>\n",
              "      <td>287.55</td>\n",
              "      <td>289.90</td>\n",
              "      <td>285.05</td>\n",
              "      <td>288.05</td>\n",
              "      <td>288.45</td>\n",
              "      <td>5421.842</td>\n",
              "    </tr>\n",
              "  </tbody>\n",
              "</table>\n",
              "<p>205 rows × 7 columns</p>\n",
              "</div>"
            ],
            "text/plain": [
              "           Date  Add1(in Thousands)  Add2(in Thousands)  Add3(in Thousands)  \\\n",
              "0    2018-10-08              208.00              222.25              206.85   \n",
              "1    2018-10-05              217.00              218.60              205.90   \n",
              "2    2018-10-04              223.50              227.80              216.15   \n",
              "3    2018-10-03              230.00              237.50              225.75   \n",
              "4    2018-10-01              234.55              234.60              221.05   \n",
              "..          ...                 ...                 ...                 ...   \n",
              "200  2017-12-14              288.00              288.25              279.20   \n",
              "201  2017-12-13              290.00              292.50              282.20   \n",
              "202  2017-12-12              298.60              298.60              286.65   \n",
              "203  2017-12-11              290.00              299.55              285.90   \n",
              "204  2017-12-08              287.55              289.90              285.05   \n",
              "\n",
              "     Add4(in Thousands)  Add5(in Thousands)  Profit(in Thousands)  \n",
              "0                216.00              215.15              4093.065  \n",
              "1                210.25              209.20              4042.448  \n",
              "2                217.25              218.20              4213.819  \n",
              "3                226.45              227.60              4391.665  \n",
              "4                230.30              230.90              4350.683  \n",
              "..                  ...                 ...                   ...  \n",
              "200              284.50              284.30              5374.105  \n",
              "201              284.80              284.45              5439.655  \n",
              "202              287.45              287.80              5545.013  \n",
              "203              297.85              298.35              5565.444  \n",
              "204              288.05              288.45              5421.842  \n",
              "\n",
              "[205 rows x 7 columns]"
            ]
          },
          "execution_count": 3,
          "metadata": {},
          "output_type": "execute_result"
        }
      ],
      "source": [
        "df"
      ]
    },
    {
      "cell_type": "code",
      "execution_count": null,
      "id": "db84151a-e9e1-4ce7-bc5a-d9a80b32935d",
      "metadata": {
        "id": "db84151a-e9e1-4ce7-bc5a-d9a80b32935d",
        "outputId": "736f5de6-a91f-4d18-b78b-f5cf505fe915"
      },
      "outputs": [
        {
          "data": {
            "text/html": [
              "<div>\n",
              "<style scoped>\n",
              "    .dataframe tbody tr th:only-of-type {\n",
              "        vertical-align: middle;\n",
              "    }\n",
              "\n",
              "    .dataframe tbody tr th {\n",
              "        vertical-align: top;\n",
              "    }\n",
              "\n",
              "    .dataframe thead th {\n",
              "        text-align: right;\n",
              "    }\n",
              "</style>\n",
              "<table border=\"1\" class=\"dataframe\">\n",
              "  <thead>\n",
              "    <tr style=\"text-align: right;\">\n",
              "      <th></th>\n",
              "      <th>Add1(in Thousands)</th>\n",
              "      <th>Add2(in Thousands)</th>\n",
              "      <th>Add3(in Thousands)</th>\n",
              "      <th>Add4(in Thousands)</th>\n",
              "      <th>Add5(in Thousands)</th>\n",
              "      <th>Profit(in Thousands)</th>\n",
              "    </tr>\n",
              "  </thead>\n",
              "  <tbody>\n",
              "    <tr>\n",
              "      <th>count</th>\n",
              "      <td>205.000000</td>\n",
              "      <td>205.000000</td>\n",
              "      <td>205.000000</td>\n",
              "      <td>205.000000</td>\n",
              "      <td>205.000000</td>\n",
              "      <td>205.000000</td>\n",
              "    </tr>\n",
              "    <tr>\n",
              "      <th>mean</th>\n",
              "      <td>267.577561</td>\n",
              "      <td>271.722439</td>\n",
              "      <td>262.990732</td>\n",
              "      <td>267.223902</td>\n",
              "      <td>267.152683</td>\n",
              "      <td>5059.630234</td>\n",
              "    </tr>\n",
              "    <tr>\n",
              "      <th>std</th>\n",
              "      <td>26.219588</td>\n",
              "      <td>25.914939</td>\n",
              "      <td>26.126704</td>\n",
              "      <td>26.238832</td>\n",
              "      <td>26.215360</td>\n",
              "      <td>486.910414</td>\n",
              "    </tr>\n",
              "    <tr>\n",
              "      <th>min</th>\n",
              "      <td>208.000000</td>\n",
              "      <td>218.600000</td>\n",
              "      <td>205.900000</td>\n",
              "      <td>210.250000</td>\n",
              "      <td>209.200000</td>\n",
              "      <td>4042.448000</td>\n",
              "    </tr>\n",
              "    <tr>\n",
              "      <th>25%</th>\n",
              "      <td>244.000000</td>\n",
              "      <td>248.500000</td>\n",
              "      <td>240.300000</td>\n",
              "      <td>243.050000</td>\n",
              "      <td>243.000000</td>\n",
              "      <td>4617.695000</td>\n",
              "    </tr>\n",
              "    <tr>\n",
              "      <th>50%</th>\n",
              "      <td>269.700000</td>\n",
              "      <td>274.200000</td>\n",
              "      <td>263.250000</td>\n",
              "      <td>268.900000</td>\n",
              "      <td>268.350000</td>\n",
              "      <td>5088.455000</td>\n",
              "    </tr>\n",
              "    <tr>\n",
              "      <th>75%</th>\n",
              "      <td>284.400000</td>\n",
              "      <td>288.800000</td>\n",
              "      <td>280.900000</td>\n",
              "      <td>284.500000</td>\n",
              "      <td>284.450000</td>\n",
              "      <td>5387.438000</td>\n",
              "    </tr>\n",
              "    <tr>\n",
              "      <th>max</th>\n",
              "      <td>327.700000</td>\n",
              "      <td>328.750000</td>\n",
              "      <td>321.650000</td>\n",
              "      <td>325.950000</td>\n",
              "      <td>325.750000</td>\n",
              "      <td>6137.800000</td>\n",
              "    </tr>\n",
              "  </tbody>\n",
              "</table>\n",
              "</div>"
            ],
            "text/plain": [
              "       Add1(in Thousands)  Add2(in Thousands)  Add3(in Thousands)  \\\n",
              "count          205.000000          205.000000          205.000000   \n",
              "mean           267.577561          271.722439          262.990732   \n",
              "std             26.219588           25.914939           26.126704   \n",
              "min            208.000000          218.600000          205.900000   \n",
              "25%            244.000000          248.500000          240.300000   \n",
              "50%            269.700000          274.200000          263.250000   \n",
              "75%            284.400000          288.800000          280.900000   \n",
              "max            327.700000          328.750000          321.650000   \n",
              "\n",
              "       Add4(in Thousands)  Add5(in Thousands)  Profit(in Thousands)  \n",
              "count          205.000000          205.000000            205.000000  \n",
              "mean           267.223902          267.152683           5059.630234  \n",
              "std             26.238832           26.215360            486.910414  \n",
              "min            210.250000          209.200000           4042.448000  \n",
              "25%            243.050000          243.000000           4617.695000  \n",
              "50%            268.900000          268.350000           5088.455000  \n",
              "75%            284.500000          284.450000           5387.438000  \n",
              "max            325.950000          325.750000           6137.800000  "
            ]
          },
          "execution_count": 4,
          "metadata": {},
          "output_type": "execute_result"
        }
      ],
      "source": [
        "df.describe()"
      ]
    },
    {
      "cell_type": "code",
      "execution_count": null,
      "id": "01994491-a391-4c6f-8f8a-ccd3ff926ea2",
      "metadata": {
        "id": "01994491-a391-4c6f-8f8a-ccd3ff926ea2",
        "outputId": "471fe2c5-a947-4e3b-b1f2-6487004b952b"
      },
      "outputs": [
        {
          "name": "stdout",
          "output_type": "stream",
          "text": [
            "<class 'pandas.core.frame.DataFrame'>\n",
            "RangeIndex: 205 entries, 0 to 204\n",
            "Data columns (total 7 columns):\n",
            " #   Column                Non-Null Count  Dtype  \n",
            "---  ------                --------------  -----  \n",
            " 0   Date                  205 non-null    object \n",
            " 1   Add1(in Thousands)    205 non-null    float64\n",
            " 2   Add2(in Thousands)    205 non-null    float64\n",
            " 3   Add3(in Thousands)    205 non-null    float64\n",
            " 4   Add4(in Thousands)    205 non-null    float64\n",
            " 5   Add5(in Thousands)    205 non-null    float64\n",
            " 6   Profit(in Thousands)  205 non-null    float64\n",
            "dtypes: float64(6), object(1)\n",
            "memory usage: 11.3+ KB\n"
          ]
        }
      ],
      "source": [
        "df.info()"
      ]
    },
    {
      "cell_type": "code",
      "execution_count": null,
      "id": "7ad49578-39da-4b89-90c7-a161f2ed0195",
      "metadata": {
        "id": "7ad49578-39da-4b89-90c7-a161f2ed0195"
      },
      "outputs": [],
      "source": [
        "df2=df.drop(['Date'],axis=1)"
      ]
    },
    {
      "cell_type": "markdown",
      "id": "449bca3e-c2da-4d5f-ae27-ddfc93734a60",
      "metadata": {
        "id": "449bca3e-c2da-4d5f-ae27-ddfc93734a60"
      },
      "source": [
        "\n",
        "#  1. First of all, check whether there is any relationship between the amount spent for advertising through five different companies and profit generated."
      ]
    },
    {
      "cell_type": "code",
      "execution_count": null,
      "id": "76b75c9f-2cd1-477c-b21f-584f7252abba",
      "metadata": {
        "id": "76b75c9f-2cd1-477c-b21f-584f7252abba",
        "outputId": "2825e551-2a66-4028-913a-f63be085b9f6"
      },
      "outputs": [
        {
          "data": {
            "text/plain": [
              "<AxesSubplot:>"
            ]
          },
          "execution_count": 9,
          "metadata": {},
          "output_type": "execute_result"
        },
        {
          "data": {
            "image/png": "[encoded data removed]",
            "text/plain": [
              "<Figure size 720x576 with 2 Axes>"
            ]
          },
          "metadata": {
            "needs_background": "light"
          },
          "output_type": "display_data"
        }
      ],
      "source": [
        "corrmatrix = df2.corr()\n",
        "plt.subplots(figsize=(10,8))\n",
        "sns.heatmap(corrmatrix,vmin=0.98,vmax=1,annot=True,linewidth=0.2)"
      ]
    },
    {
      "cell_type": "markdown",
      "id": "0f790433-7ade-4e5b-b19a-347a78759fdf",
      "metadata": {
        "id": "0f790433-7ade-4e5b-b19a-347a78759fdf"
      },
      "source": [
        "### Correlation shows positive since value avbove 0 , money spent by company for adds are having higher positive correlation with the profit.\n"
      ]
    },
    {
      "cell_type": "markdown",
      "id": "84efce23-bc64-4891-8810-4a9923c8686f",
      "metadata": {
        "id": "84efce23-bc64-4891-8810-4a9923c8686f"
      },
      "source": [
        "# 2. Build a regression model to predict the profit from the given data and comment your findings on it."
      ]
    },
    {
      "cell_type": "code",
      "execution_count": null,
      "id": "ae40fb0c-156b-4362-9977-70eba73a55a3",
      "metadata": {
        "id": "ae40fb0c-156b-4362-9977-70eba73a55a3"
      },
      "outputs": [],
      "source": [
        "y = df2['Profit(in Thousands)']\n",
        "x = df2.drop(['Profit(in Thousands)'],axis=1)\n",
        "\n"
      ]
    },
    {
      "cell_type": "code",
      "execution_count": null,
      "id": "777e997b-9e48-4274-a838-757ac21674b2",
      "metadata": {
        "id": "777e997b-9e48-4274-a838-757ac21674b2"
      },
      "outputs": [],
      "source": [
        "from sklearn.model_selection import train_test_split\n",
        "x_train,x_test,y_train,y_test = train_test_split(x,y,random_state=42,test_size=0.25)"
      ]
    },
    {
      "cell_type": "code",
      "execution_count": null,
      "id": "a7a075da-f6b4-4eb3-a622-330228ffdca1",
      "metadata": {
        "id": "a7a075da-f6b4-4eb3-a622-330228ffdca1"
      },
      "outputs": [],
      "source": [
        "\n",
        "from sklearn import linear_model\n"
      ]
    },
    {
      "cell_type": "code",
      "execution_count": null,
      "id": "4a1e685d-8c74-4da7-b264-e1acbede69f7",
      "metadata": {
        "id": "4a1e685d-8c74-4da7-b264-e1acbede69f7"
      },
      "outputs": [],
      "source": [
        "lr = linear_model.LinearRegression()"
      ]
    },
    {
      "cell_type": "code",
      "execution_count": null,
      "id": "cc55d497-a7b4-44ae-b2f4-6391fc5b6553",
      "metadata": {
        "id": "cc55d497-a7b4-44ae-b2f4-6391fc5b6553"
      },
      "outputs": [],
      "source": [
        "model = lr.fit(x_train,y_train)"
      ]
    },
    {
      "cell_type": "code",
      "execution_count": null,
      "id": "c7cc61fb-a365-4fec-9081-123380ead902",
      "metadata": {
        "id": "c7cc61fb-a365-4fec-9081-123380ead902"
      },
      "outputs": [],
      "source": [
        "predictions = model.predict(x_test)"
      ]
    },
    {
      "cell_type": "code",
      "execution_count": null,
      "id": "1fb94b92-81a6-470e-9aa4-c2aa64882639",
      "metadata": {
        "id": "1fb94b92-81a6-470e-9aa4-c2aa64882639",
        "outputId": "7c4b0024-b4b5-49a5-b5d6-c45c82317b77"
      },
      "outputs": [
        {
          "name": "stdout",
          "output_type": "stream",
          "text": [
            "15     4152.066\n",
            "9      4446.441\n",
            "100    5131.898\n",
            "132    4907.560\n",
            "68     5004.282\n",
            "95     4623.793\n",
            "159    5384.175\n",
            "162    5328.025\n",
            "147    5175.051\n",
            "182    5956.323\n",
            "191    5780.799\n",
            "164    4997.719\n",
            "65     5075.858\n",
            "175    5784.540\n",
            "73     4936.120\n",
            "152    5065.652\n",
            "18     4190.965\n",
            "82     5034.726\n",
            "86     5015.536\n",
            "143    5134.657\n",
            "60     5145.131\n",
            "101    5421.940\n",
            "98     4569.293\n",
            "30     4598.292\n",
            "25     4436.321\n",
            "16     4175.677\n",
            "168    5616.791\n",
            "195    5667.250\n",
            "97     4648.834\n",
            "194    5717.838\n",
            "67     5001.615\n",
            "120    5182.368\n",
            "154    5017.503\n",
            "202    5545.013\n",
            "79     5013.207\n",
            "69     5030.451\n",
            "145    5108.626\n",
            "55     4760.877\n",
            "45     4606.340\n",
            "84     4925.861\n",
            "146    5250.788\n",
            "66     5038.222\n",
            "111    5491.792\n",
            "153    5019.997\n",
            "96     4647.356\n",
            "38     4486.380\n",
            "24     4435.174\n",
            "139    5300.437\n",
            "112    5425.190\n",
            "29     4482.183\n",
            "19     4193.095\n",
            "178    6062.457\n",
            "Name: Profit(in Thousands), dtype: float64\n"
          ]
        }
      ],
      "source": [
        "print(y_test)"
      ]
    },
    {
      "cell_type": "code",
      "execution_count": null,
      "id": "92e8d8af-eca8-473c-a973-116eaf252318",
      "metadata": {
        "id": "92e8d8af-eca8-473c-a973-116eaf252318",
        "outputId": "4fdbb7f1-e02f-4d9a-c43f-c0b1e2cc0b6d"
      },
      "outputs": [
        {
          "name": "stdout",
          "output_type": "stream",
          "text": [
            "[4152.066 4446.441 5131.898 4907.56  5004.282 4623.793 5384.175 5328.025\n",
            " 5175.051 5956.323 5780.799 4997.719 5075.858 5784.54  4936.12  5065.652\n",
            " 4190.965 5034.726 5015.536 5134.657 5145.131 5421.94  4569.293 4598.292\n",
            " 4436.321 4175.677 5616.791 5667.25  4648.834 5717.838 5001.615 5182.368\n",
            " 5017.503 5545.013 5013.207 5030.451 5108.626 4760.877 4606.34  4925.861\n",
            " 5250.788 5038.222 5491.792 5019.997 4647.356 4486.38  4435.174 5300.437\n",
            " 5425.19  4482.183 4193.095 6062.457]\n"
          ]
        }
      ],
      "source": [
        "print(predictions)"
      ]
    },
    {
      "cell_type": "code",
      "execution_count": null,
      "id": "ed591f85-c6fd-453b-9095-a393c15a4442",
      "metadata": {
        "id": "ed591f85-c6fd-453b-9095-a393c15a4442"
      },
      "outputs": [],
      "source": [
        "from sklearn.metrics import mean_squared_error"
      ]
    },
    {
      "cell_type": "code",
      "execution_count": null,
      "id": "ca27b7f4-bd82-43cb-ab7d-8621c48e6738",
      "metadata": {
        "id": "ca27b7f4-bd82-43cb-ab7d-8621c48e6738",
        "outputId": "728f261f-bb8b-4d8e-c625-051217e9b858"
      },
      "outputs": [
        {
          "name": "stdout",
          "output_type": "stream",
          "text": [
            "MSE is 3.8177566733216664e-25\n"
          ]
        }
      ],
      "source": [
        "print('MSE is',mean_squared_error(y_test,predictions))"
      ]
    },
    {
      "cell_type": "code",
      "execution_count": null,
      "id": "712e1c8c-a4bb-4b15-b170-077a1bbc0538",
      "metadata": {
        "id": "712e1c8c-a4bb-4b15-b170-077a1bbc0538",
        "outputId": "87ac4a92-c859-45a6-f9eb-cad321242509"
      },
      "outputs": [
        {
          "data": {
            "text/plain": [
              "1.0"
            ]
          },
          "execution_count": 23,
          "metadata": {},
          "output_type": "execute_result"
        }
      ],
      "source": [
        "model.score(x_test,y_test)"
      ]
    },
    {
      "cell_type": "markdown",
      "id": "26a35752-f362-4814-860a-46cec9007757",
      "metadata": {
        "id": "26a35752-f362-4814-860a-46cec9007757"
      },
      "source": [
        "\n",
        "# 3. Predict the profit generated by the company, if they wish to spend the following amount for advertisement.\n",
        "Add1(in Thousands) - 290\n",
        "Add2(in Thousands) - 312\n",
        "Add3(in Thousands) - 309\n",
        "Add4(in Thousands) - 298\n",
        "Add5(in Thousands) - 320"
      ]
    },
    {
      "cell_type": "code",
      "execution_count": null,
      "id": "952ef87c-3228-48d8-945a-4feb0eb4adde",
      "metadata": {
        "id": "952ef87c-3228-48d8-945a-4feb0eb4adde"
      },
      "outputs": [],
      "source": [
        "x_new=[[290,312,309,298,320]]"
      ]
    },
    {
      "cell_type": "code",
      "execution_count": null,
      "id": "40de0e9a-21f7-491c-8991-92f735417aeb",
      "metadata": {
        "id": "40de0e9a-21f7-491c-8991-92f735417aeb"
      },
      "outputs": [],
      "source": [
        "profit_pred =model.predict(x_new)"
      ]
    },
    {
      "cell_type": "code",
      "execution_count": null,
      "id": "28289ce3-358b-47d0-bd09-a4de49a18fe3",
      "metadata": {
        "id": "28289ce3-358b-47d0-bd09-a4de49a18fe3",
        "outputId": "9ba30c0b-c384-478e-e87a-a2344ef4bb9a"
      },
      "outputs": [
        {
          "name": "stdout",
          "output_type": "stream",
          "text": [
            "[5820.06]\n"
          ]
        }
      ],
      "source": [
        "print(profit_pred)"
      ]
    },
    {
      "cell_type": "markdown",
      "id": "74803fef-4e50-4d53-9573-e4d9502d00b9",
      "metadata": {
        "id": "74803fef-4e50-4d53-9573-e4d9502d00b9"
      },
      "source": [
        "# Predicted profit is 5820.06"
      ]
    },
    {
      "cell_type": "code",
      "execution_count": null,
      "id": "5f0ea5b3-4430-478f-bf53-899a3e675d18",
      "metadata": {
        "id": "5f0ea5b3-4430-478f-bf53-899a3e675d18"
      },
      "outputs": [],
      "source": [
        ""
      ]
    }
  ],
  "metadata": {
    "kernelspec": {
      "display_name": "Python 3",
      "language": "python",
      "name": "python3"
    },
    "language_info": {
      "codemirror_mode": {
        "name": "ipython",
        "version": 3
      },
      "file_extension": ".py",
      "mimetype": "text/x-python",
      "name": "python",
      "nbconvert_exporter": "python",
      "pygments_lexer": "ipython3",
      "version": "3.8.8"
    },
    "colab": {
      "name": "Case_study_3.ipynb",
      "provenance": [],
      "include_colab_link": true
    }
  },
  "nbformat": 4,
  "nbformat_minor": 5
}