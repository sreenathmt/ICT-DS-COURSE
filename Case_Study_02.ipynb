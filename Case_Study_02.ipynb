{
  "nbformat": 4,
  "nbformat_minor": 5,
  "metadata": {
    "kernelspec": {
      "display_name": "Python 3 (ipykernel)",
      "language": "python",
      "name": "python3"
    },
    "language_info": {
      "codemirror_mode": {
        "name": "ipython",
        "version": 3
      },
      "file_extension": ".py",
      "mimetype": "text/x-python",
      "name": "python",
      "nbconvert_exporter": "python",
      "pygments_lexer": "ipython3",
      "version": "3.8.12"
    },
    "colab": {
      "name": "Case Study #02.ipynb",
      "provenance": [],
      "include_colab_link": true
    }
  },
  "cells": [
    {
      "cell_type": "markdown",
      "metadata": {
        "id": "view-in-github",
        "colab_type": "text"
      },
      "source": [
        "<a href=\"https://colab.research.google.com/github/sreenathmt/ICT-DS-COURSE/blob/main/Case_Study_02.ipynb\" target=\"_parent\"><img src=\"https://colab.research.google.com/assets/colab-badge.svg\" alt=\"Open In Colab\"/></a>"
      ]
    },
    {
      "cell_type": "markdown",
      "metadata": {
        "id": "45677b62-b1e8-4cdd-bd39-981432f950db"
      },
      "source": [
        "# Case Study on Measurement of Central Tendency and Dispersion"
      ],
      "id": "45677b62-b1e8-4cdd-bd39-981432f950db"
    },
    {
      "cell_type": "code",
      "metadata": {
        "id": "6fd89fcd-1f87-4b04-811b-7ba7ba655cf6"
      },
      "source": [
        "import numpy as np\n",
        "import pandas as pd \n",
        "import matplotlib.pyplot as plt\n",
        "import seaborn as sns"
      ],
      "id": "6fd89fcd-1f87-4b04-811b-7ba7ba655cf6",
      "execution_count": null,
      "outputs": []
    },
    {
      "cell_type": "code",
      "metadata": {
        "id": "3130eb8b-d5a0-4784-a090-519cf8c2a19e"
      },
      "source": [
        "### Reading Data\n",
        "df=pd.read_csv('D:\\Data analysis\\ICTK\\Case study#2\\StudentsPerformance.csv')"
      ],
      "id": "3130eb8b-d5a0-4784-a090-519cf8c2a19e",
      "execution_count": null,
      "outputs": []
    },
    {
      "cell_type": "code",
      "metadata": {
        "id": "3e93511d-60a3-4e2d-af8b-57674338684d",
        "outputId": "2d7bcdc9-fa0e-4272-f82d-e0a851b7e645"
      },
      "source": [
        "df.shape"
      ],
      "id": "3e93511d-60a3-4e2d-af8b-57674338684d",
      "execution_count": null,
      "outputs": [
        {
          "data": {
            "text/plain": [
              "(1000, 8)"
            ]
          },
          "execution_count": 3,
          "metadata": {},
          "output_type": "execute_result"
        }
      ]
    },
    {
      "cell_type": "code",
      "metadata": {
        "id": "4a0c8092-0100-472e-a2bd-88c9b569255b",
        "outputId": "0d894522-767d-4efb-cf1c-fc7bdc4e1a8a"
      },
      "source": [
        "df.head()"
      ],
      "id": "4a0c8092-0100-472e-a2bd-88c9b569255b",
      "execution_count": null,
      "outputs": [
        {
          "data": {
            "text/html": [
              "<div>\n",
              "<style scoped>\n",
              "    .dataframe tbody tr th:only-of-type {\n",
              "        vertical-align: middle;\n",
              "    }\n",
              "\n",
              "    .dataframe tbody tr th {\n",
              "        vertical-align: top;\n",
              "    }\n",
              "\n",
              "    .dataframe thead th {\n",
              "        text-align: right;\n",
              "    }\n",
              "</style>\n",
              "<table border=\"1\" class=\"dataframe\">\n",
              "  <thead>\n",
              "    <tr style=\"text-align: right;\">\n",
              "      <th></th>\n",
              "      <th>gender</th>\n",
              "      <th>race/ethnicity</th>\n",
              "      <th>parental level of education</th>\n",
              "      <th>lunch</th>\n",
              "      <th>test preparation course</th>\n",
              "      <th>math score</th>\n",
              "      <th>reading score</th>\n",
              "      <th>writing score</th>\n",
              "    </tr>\n",
              "  </thead>\n",
              "  <tbody>\n",
              "    <tr>\n",
              "      <th>0</th>\n",
              "      <td>female</td>\n",
              "      <td>group C</td>\n",
              "      <td>some high school</td>\n",
              "      <td>free/reduced</td>\n",
              "      <td>none</td>\n",
              "      <td>0</td>\n",
              "      <td>17</td>\n",
              "      <td>10</td>\n",
              "    </tr>\n",
              "    <tr>\n",
              "      <th>1</th>\n",
              "      <td>female</td>\n",
              "      <td>group B</td>\n",
              "      <td>high school</td>\n",
              "      <td>free/reduced</td>\n",
              "      <td>none</td>\n",
              "      <td>8</td>\n",
              "      <td>24</td>\n",
              "      <td>23</td>\n",
              "    </tr>\n",
              "    <tr>\n",
              "      <th>2</th>\n",
              "      <td>female</td>\n",
              "      <td>group B</td>\n",
              "      <td>some high school</td>\n",
              "      <td>free/reduced</td>\n",
              "      <td>none</td>\n",
              "      <td>18</td>\n",
              "      <td>32</td>\n",
              "      <td>28</td>\n",
              "    </tr>\n",
              "    <tr>\n",
              "      <th>3</th>\n",
              "      <td>female</td>\n",
              "      <td>group B</td>\n",
              "      <td>some college</td>\n",
              "      <td>standard</td>\n",
              "      <td>none</td>\n",
              "      <td>11</td>\n",
              "      <td>38</td>\n",
              "      <td>32</td>\n",
              "    </tr>\n",
              "    <tr>\n",
              "      <th>4</th>\n",
              "      <td>female</td>\n",
              "      <td>group C</td>\n",
              "      <td>some college</td>\n",
              "      <td>free/reduced</td>\n",
              "      <td>none</td>\n",
              "      <td>22</td>\n",
              "      <td>39</td>\n",
              "      <td>33</td>\n",
              "    </tr>\n",
              "  </tbody>\n",
              "</table>\n",
              "</div>"
            ],
            "text/plain": [
              "   gender race/ethnicity parental level of education         lunch  \\\n",
              "0  female        group C            some high school  free/reduced   \n",
              "1  female        group B                 high school  free/reduced   \n",
              "2  female        group B            some high school  free/reduced   \n",
              "3  female        group B                some college      standard   \n",
              "4  female        group C                some college  free/reduced   \n",
              "\n",
              "  test preparation course  math score  reading score  writing score  \n",
              "0                    none           0             17             10  \n",
              "1                    none           8             24             23  \n",
              "2                    none          18             32             28  \n",
              "3                    none          11             38             32  \n",
              "4                    none          22             39             33  "
            ]
          },
          "execution_count": 4,
          "metadata": {},
          "output_type": "execute_result"
        }
      ]
    },
    {
      "cell_type": "code",
      "metadata": {
        "id": "a99b9cfe-7c53-4774-b015-e7f471cbaa05",
        "outputId": "2e6ee38f-5962-41e8-def1-da5bf1fe2e91"
      },
      "source": [
        "df.isnull().sum()"
      ],
      "id": "a99b9cfe-7c53-4774-b015-e7f471cbaa05",
      "execution_count": null,
      "outputs": [
        {
          "data": {
            "text/plain": [
              "gender                         0\n",
              "race/ethnicity                 0\n",
              "parental level of education    0\n",
              "lunch                          0\n",
              "test preparation course        0\n",
              "math score                     0\n",
              "reading score                  0\n",
              "writing score                  0\n",
              "dtype: int64"
            ]
          },
          "execution_count": 5,
          "metadata": {},
          "output_type": "execute_result"
        }
      ]
    },
    {
      "cell_type": "code",
      "metadata": {
        "id": "a4cbb629-b7e7-4d50-978a-d5d3b2cb5b66",
        "outputId": "35f60614-c447-4d0e-a91c-bd452ec6d5d4"
      },
      "source": [
        "df.describe().T"
      ],
      "id": "a4cbb629-b7e7-4d50-978a-d5d3b2cb5b66",
      "execution_count": null,
      "outputs": [
        {
          "data": {
            "text/html": [
              "<div>\n",
              "<style scoped>\n",
              "    .dataframe tbody tr th:only-of-type {\n",
              "        vertical-align: middle;\n",
              "    }\n",
              "\n",
              "    .dataframe tbody tr th {\n",
              "        vertical-align: top;\n",
              "    }\n",
              "\n",
              "    .dataframe thead th {\n",
              "        text-align: right;\n",
              "    }\n",
              "</style>\n",
              "<table border=\"1\" class=\"dataframe\">\n",
              "  <thead>\n",
              "    <tr style=\"text-align: right;\">\n",
              "      <th></th>\n",
              "      <th>count</th>\n",
              "      <th>mean</th>\n",
              "      <th>std</th>\n",
              "      <th>min</th>\n",
              "      <th>25%</th>\n",
              "      <th>50%</th>\n",
              "      <th>75%</th>\n",
              "      <th>max</th>\n",
              "    </tr>\n",
              "  </thead>\n",
              "  <tbody>\n",
              "    <tr>\n",
              "      <th>math score</th>\n",
              "      <td>1000.0</td>\n",
              "      <td>66.001</td>\n",
              "      <td>15.569567</td>\n",
              "      <td>0.0</td>\n",
              "      <td>57.0</td>\n",
              "      <td>66.0</td>\n",
              "      <td>77.00</td>\n",
              "      <td>100.0</td>\n",
              "    </tr>\n",
              "    <tr>\n",
              "      <th>reading score</th>\n",
              "      <td>1000.0</td>\n",
              "      <td>69.195</td>\n",
              "      <td>14.706436</td>\n",
              "      <td>17.0</td>\n",
              "      <td>59.0</td>\n",
              "      <td>70.0</td>\n",
              "      <td>79.25</td>\n",
              "      <td>100.0</td>\n",
              "    </tr>\n",
              "    <tr>\n",
              "      <th>writing score</th>\n",
              "      <td>1000.0</td>\n",
              "      <td>68.119</td>\n",
              "      <td>15.226381</td>\n",
              "      <td>10.0</td>\n",
              "      <td>58.0</td>\n",
              "      <td>69.0</td>\n",
              "      <td>79.00</td>\n",
              "      <td>100.0</td>\n",
              "    </tr>\n",
              "  </tbody>\n",
              "</table>\n",
              "</div>"
            ],
            "text/plain": [
              "                count    mean        std   min   25%   50%    75%    max\n",
              "math score     1000.0  66.001  15.569567   0.0  57.0  66.0  77.00  100.0\n",
              "reading score  1000.0  69.195  14.706436  17.0  59.0  70.0  79.25  100.0\n",
              "writing score  1000.0  68.119  15.226381  10.0  58.0  69.0  79.00  100.0"
            ]
          },
          "execution_count": 6,
          "metadata": {},
          "output_type": "execute_result"
        }
      ]
    },
    {
      "cell_type": "code",
      "metadata": {
        "id": "e03c6768-f0cc-4ccb-b065-955b69b236d8",
        "outputId": "38a4f141-f4e1-45a1-d3e4-0a86d8cb06e1"
      },
      "source": [
        "df.info()"
      ],
      "id": "e03c6768-f0cc-4ccb-b065-955b69b236d8",
      "execution_count": null,
      "outputs": [
        {
          "name": "stdout",
          "output_type": "stream",
          "text": [
            "<class 'pandas.core.frame.DataFrame'>\n",
            "RangeIndex: 1000 entries, 0 to 999\n",
            "Data columns (total 8 columns):\n",
            " #   Column                       Non-Null Count  Dtype \n",
            "---  ------                       --------------  ----- \n",
            " 0   gender                       1000 non-null   object\n",
            " 1   race/ethnicity               1000 non-null   object\n",
            " 2   parental level of education  1000 non-null   object\n",
            " 3   lunch                        1000 non-null   object\n",
            " 4   test preparation course      1000 non-null   object\n",
            " 5   math score                   1000 non-null   int64 \n",
            " 6   reading score                1000 non-null   int64 \n",
            " 7   writing score                1000 non-null   int64 \n",
            "dtypes: int64(3), object(5)\n",
            "memory usage: 62.6+ KB\n"
          ]
        }
      ]
    },
    {
      "cell_type": "markdown",
      "metadata": {
        "id": "148d4713-0c14-447f-8968-93bb92e4dede"
      },
      "source": [
        "## 1. Find out how many males and females participated in the test.\n"
      ],
      "id": "148d4713-0c14-447f-8968-93bb92e4dede"
    },
    {
      "cell_type": "code",
      "metadata": {
        "id": "e18db2e3-ba6b-4eaf-b841-90a33ac099d8",
        "outputId": "8c83439b-c4fa-4737-8095-03e8fc8c4c9a"
      },
      "source": [
        "df['gender'].value_counts()"
      ],
      "id": "e18db2e3-ba6b-4eaf-b841-90a33ac099d8",
      "execution_count": null,
      "outputs": [
        {
          "data": {
            "text/plain": [
              "female    518\n",
              "male      482\n",
              "Name: gender, dtype: int64"
            ]
          },
          "execution_count": 8,
          "metadata": {},
          "output_type": "execute_result"
        }
      ]
    },
    {
      "cell_type": "code",
      "metadata": {
        "id": "ad894fdc-7952-47e3-9a16-f54228fdf4ac",
        "outputId": "7fd1ef72-8055-47c2-f747-3ad07facc46a"
      },
      "source": [
        "plt.figure(figsize=(10, 8))\n",
        "ax=sns.countplot(x=df['gender'], data=df, palette='summer')\n",
        "ax.bar_label(ax.containers[0],fontsize=20,fontweight=\"bold\")\n",
        "plt.tight_layout()\n",
        "plt.show()"
      ],
      "id": "ad894fdc-7952-47e3-9a16-f54228fdf4ac",
      "execution_count": null,
      "outputs": [
        {
          "data": {
            "image/png": "[encoded data removed]",
            "text/plain": [
              "<Figure size 720x576 with 1 Axes>"
            ]
          },
          "metadata": {
            "needs_background": "light"
          },
          "output_type": "display_data"
        }
      ]
    },
    {
      "cell_type": "markdown",
      "metadata": {
        "id": "86ebf933-b582-4e74-bbc4-1718167b7327"
      },
      "source": [
        "* From the graph its clear that 518 Females and 482 Males participated in the test"
      ],
      "id": "86ebf933-b582-4e74-bbc4-1718167b7327"
    },
    {
      "cell_type": "markdown",
      "metadata": {
        "id": "0ebd22e0-5f7d-4ced-ba19-7f85bf8233c6"
      },
      "source": [
        "## 2. What do you think about the student's parental level of education?\n"
      ],
      "id": "0ebd22e0-5f7d-4ced-ba19-7f85bf8233c6"
    },
    {
      "cell_type": "code",
      "metadata": {
        "id": "b4cb1fdf-053d-4dd8-b99f-8b7b5b416d32",
        "outputId": "5a038e79-226e-4603-c962-3da89ad34285"
      },
      "source": [
        "df['parental level of education'].value_counts()"
      ],
      "id": "b4cb1fdf-053d-4dd8-b99f-8b7b5b416d32",
      "execution_count": null,
      "outputs": [
        {
          "data": {
            "text/plain": [
              "some college          226\n",
              "associate's degree    222\n",
              "high school           196\n",
              "some high school      179\n",
              "bachelor's degree     118\n",
              "master's degree        59\n",
              "Name: parental level of education, dtype: int64"
            ]
          },
          "execution_count": 11,
          "metadata": {},
          "output_type": "execute_result"
        }
      ]
    },
    {
      "cell_type": "code",
      "metadata": {
        "id": "c6cd8bb8-8231-4f99-84b9-016e65aa850e",
        "outputId": "2c211384-4b98-463d-b878-43c60f0fd693"
      },
      "source": [
        "plt.figure(figsize=(14, 10))\n",
        "ax=sns.countplot(x=df['parental level of education'],order=df['parental level of education'].value_counts(ascending=False).index, data=df, hue='gender')\n",
        "ax.bar_label(ax.containers[0],fontsize=20,fontweight=\"bold\",label_type='center')\n",
        "ax.bar_label(ax.containers[1],fontsize=20,fontweight=\"bold\",label_type='center')\n",
        "plt.tight_layout()\n",
        "plt.show()"
      ],
      "id": "c6cd8bb8-8231-4f99-84b9-016e65aa850e",
      "execution_count": null,
      "outputs": [
        {
          "data": {
            "image/png": "[encoded data removed]",
            "text/plain": [
              "<Figure size 1008x720 with 1 Axes>"
            ]
          },
          "metadata": {
            "needs_background": "light"
          },
          "output_type": "display_data"
        }
      ]
    },
    {
      "cell_type": "markdown",
      "metadata": {
        "id": "789f0164-1c80-41ef-956e-93ea81b6321d"
      },
      "source": [
        "*  From the above graph we can clearly see that most of the parents are graduated from some college, very few are masters degree holder among the masters degree holder parents of female's are leading."
      ],
      "id": "789f0164-1c80-41ef-956e-93ea81b6321d"
    },
    {
      "cell_type": "markdown",
      "metadata": {
        "id": "7c79f402-c892-441b-b462-2b265b95fe7f"
      },
      "source": [
        "## 3. Who scores the most on average for math, reading and writing based on\n",
        "### ● Gender\n",
        "### ● Test preparation course\n"
      ],
      "id": "7c79f402-c892-441b-b462-2b265b95fe7f"
    },
    {
      "cell_type": "code",
      "metadata": {
        "id": "b58045a7-38d5-4a6a-9130-0a8cd54f7890"
      },
      "source": [
        "avg_gender=df.groupby('gender')[['math score', 'reading score', 'writing score']].mean()\n",
        "avg_test=df.groupby('test preparation course')[['math score', 'reading score', 'writing score']].mean()\n"
      ],
      "id": "b58045a7-38d5-4a6a-9130-0a8cd54f7890",
      "execution_count": null,
      "outputs": []
    },
    {
      "cell_type": "code",
      "metadata": {
        "id": "ae255e63-c8ee-42a9-b230-7989f626f562",
        "outputId": "a7bda6f1-6d0e-42ff-ec61-911762ce1745"
      },
      "source": [
        "avg_gender"
      ],
      "id": "ae255e63-c8ee-42a9-b230-7989f626f562",
      "execution_count": null,
      "outputs": [
        {
          "data": {
            "text/html": [
              "<div>\n",
              "<style scoped>\n",
              "    .dataframe tbody tr th:only-of-type {\n",
              "        vertical-align: middle;\n",
              "    }\n",
              "\n",
              "    .dataframe tbody tr th {\n",
              "        vertical-align: top;\n",
              "    }\n",
              "\n",
              "    .dataframe thead th {\n",
              "        text-align: right;\n",
              "    }\n",
              "</style>\n",
              "<table border=\"1\" class=\"dataframe\">\n",
              "  <thead>\n",
              "    <tr style=\"text-align: right;\">\n",
              "      <th></th>\n",
              "      <th>math score</th>\n",
              "      <th>reading score</th>\n",
              "      <th>writing score</th>\n",
              "    </tr>\n",
              "    <tr>\n",
              "      <th>gender</th>\n",
              "      <th></th>\n",
              "      <th></th>\n",
              "      <th></th>\n",
              "    </tr>\n",
              "  </thead>\n",
              "  <tbody>\n",
              "    <tr>\n",
              "      <th>female</th>\n",
              "      <td>63.376448</td>\n",
              "      <td>72.590734</td>\n",
              "      <td>72.467181</td>\n",
              "    </tr>\n",
              "    <tr>\n",
              "      <th>male</th>\n",
              "      <td>68.821577</td>\n",
              "      <td>65.545643</td>\n",
              "      <td>63.446058</td>\n",
              "    </tr>\n",
              "  </tbody>\n",
              "</table>\n",
              "</div>"
            ],
            "text/plain": [
              "        math score  reading score  writing score\n",
              "gender                                          \n",
              "female   63.376448      72.590734      72.467181\n",
              "male     68.821577      65.545643      63.446058"
            ]
          },
          "execution_count": 25,
          "metadata": {},
          "output_type": "execute_result"
        }
      ]
    },
    {
      "cell_type": "code",
      "metadata": {
        "id": "50748ddc-c90d-43b9-a3aa-d19c787a0b17",
        "outputId": "103bba90-b7df-4f81-d348-205522f49162"
      },
      "source": [
        "ax=avg_gender.plot(kind='bar',figsize=(14,8))\n",
        "ax.bar_label(ax.containers[0])\n",
        "ax.bar_label(ax.containers[1])\n",
        "ax.bar_label(ax.containers[2])\n",
        "plt.tight_layout()\n"
      ],
      "id": "50748ddc-c90d-43b9-a3aa-d19c787a0b17",
      "execution_count": null,
      "outputs": [
        {
          "data": {
            "image/png": "[encoded data removed]",
            "text/plain": [
              "<Figure size 1008x576 with 1 Axes>"
            ]
          },
          "metadata": {
            "needs_background": "light"
          },
          "output_type": "display_data"
        }
      ]
    },
    {
      "cell_type": "markdown",
      "metadata": {
        "id": "5969e1e9-75ee-4357-8015-174f71ff2700"
      },
      "source": [
        "* On an average Males scores higher in maths and females are on top in other subjects."
      ],
      "id": "5969e1e9-75ee-4357-8015-174f71ff2700"
    },
    {
      "cell_type": "code",
      "metadata": {
        "id": "2ec3cd48-54f3-461c-ab30-8c493b05bf28",
        "outputId": "e7694835-42af-4cc0-921e-6a45b6d9720e"
      },
      "source": [
        "avg_test"
      ],
      "id": "2ec3cd48-54f3-461c-ab30-8c493b05bf28",
      "execution_count": null,
      "outputs": [
        {
          "data": {
            "text/html": [
              "<div>\n",
              "<style scoped>\n",
              "    .dataframe tbody tr th:only-of-type {\n",
              "        vertical-align: middle;\n",
              "    }\n",
              "\n",
              "    .dataframe tbody tr th {\n",
              "        vertical-align: top;\n",
              "    }\n",
              "\n",
              "    .dataframe thead th {\n",
              "        text-align: right;\n",
              "    }\n",
              "</style>\n",
              "<table border=\"1\" class=\"dataframe\">\n",
              "  <thead>\n",
              "    <tr style=\"text-align: right;\">\n",
              "      <th></th>\n",
              "      <th>math score</th>\n",
              "      <th>reading score</th>\n",
              "      <th>writing score</th>\n",
              "    </tr>\n",
              "    <tr>\n",
              "      <th>test preparation course</th>\n",
              "      <th></th>\n",
              "      <th></th>\n",
              "      <th></th>\n",
              "    </tr>\n",
              "  </thead>\n",
              "  <tbody>\n",
              "    <tr>\n",
              "      <th>completed</th>\n",
              "      <td>69.96648</td>\n",
              "      <td>74.175978</td>\n",
              "      <td>74.684358</td>\n",
              "    </tr>\n",
              "    <tr>\n",
              "      <th>none</th>\n",
              "      <td>63.78972</td>\n",
              "      <td>66.417445</td>\n",
              "      <td>64.457944</td>\n",
              "    </tr>\n",
              "  </tbody>\n",
              "</table>\n",
              "</div>"
            ],
            "text/plain": [
              "                         math score  reading score  writing score\n",
              "test preparation course                                          \n",
              "completed                  69.96648      74.175978      74.684358\n",
              "none                       63.78972      66.417445      64.457944"
            ]
          },
          "execution_count": 27,
          "metadata": {},
          "output_type": "execute_result"
        }
      ]
    },
    {
      "cell_type": "code",
      "metadata": {
        "id": "3bd9cff0-b316-4e90-8a49-be1890c675f2",
        "outputId": "dce62f78-c607-4785-aa51-63808515f1f4"
      },
      "source": [
        "ax=avg_test.plot(kind='bar',figsize=(14,8))\n",
        "ax.bar_label(ax.containers[0])\n",
        "ax.bar_label(ax.containers[1])\n",
        "ax.bar_label(ax.containers[2])\n",
        "plt.tight_layout()"
      ],
      "id": "3bd9cff0-b316-4e90-8a49-be1890c675f2",
      "execution_count": null,
      "outputs": [
        {
          "data": {
            "image/png": "[encoded data removed]",
            "text/plain": [
              "<Figure size 1008x576 with 1 Axes>"
            ]
          },
          "metadata": {
            "needs_background": "light"
          },
          "output_type": "display_data"
        }
      ]
    },
    {
      "cell_type": "markdown",
      "metadata": {
        "id": "a0115644-a338-4be7-ae84-0ccc70448e1c"
      },
      "source": [
        "* While considering test preparation course , those who have completed the course are ahead in scoring."
      ],
      "id": "a0115644-a338-4be7-ae84-0ccc70448e1c"
    },
    {
      "cell_type": "markdown",
      "metadata": {
        "id": "71ba2037-c189-4573-a457-43fbcbe3ef20"
      },
      "source": [
        "## 4. What do you think about the scoring variation for math, reading and writing based on\n",
        "### ● Gender\n",
        "### ● Test preparation course\n"
      ],
      "id": "71ba2037-c189-4573-a457-43fbcbe3ef20"
    },
    {
      "cell_type": "code",
      "metadata": {
        "id": "67e5fadd-8af5-49d3-954c-a70727090096"
      },
      "source": [
        "var_gender=df.groupby('gender')[['math score', 'reading score', 'writing score']].var()\n",
        "var_test=df.groupby('test preparation course')[['math score', 'reading score', 'writing score']].var()"
      ],
      "id": "67e5fadd-8af5-49d3-954c-a70727090096",
      "execution_count": null,
      "outputs": []
    },
    {
      "cell_type": "code",
      "metadata": {
        "id": "3035c64f-d599-4475-89c1-23fb4fbd2ba5",
        "outputId": "c8815410-f4e8-430d-d9eb-0e4ce005ba5b"
      },
      "source": [
        "var_gender"
      ],
      "id": "3035c64f-d599-4475-89c1-23fb4fbd2ba5",
      "execution_count": null,
      "outputs": [
        {
          "data": {
            "text/html": [
              "<div>\n",
              "<style scoped>\n",
              "    .dataframe tbody tr th:only-of-type {\n",
              "        vertical-align: middle;\n",
              "    }\n",
              "\n",
              "    .dataframe tbody tr th {\n",
              "        vertical-align: top;\n",
              "    }\n",
              "\n",
              "    .dataframe thead th {\n",
              "        text-align: right;\n",
              "    }\n",
              "</style>\n",
              "<table border=\"1\" class=\"dataframe\">\n",
              "  <thead>\n",
              "    <tr style=\"text-align: right;\">\n",
              "      <th></th>\n",
              "      <th>math score</th>\n",
              "      <th>reading score</th>\n",
              "      <th>writing score</th>\n",
              "    </tr>\n",
              "    <tr>\n",
              "      <th>gender</th>\n",
              "      <th></th>\n",
              "      <th></th>\n",
              "      <th></th>\n",
              "    </tr>\n",
              "  </thead>\n",
              "  <tbody>\n",
              "    <tr>\n",
              "      <th>female</th>\n",
              "      <td>256.958593</td>\n",
              "      <td>207.677438</td>\n",
              "      <td>220.369327</td>\n",
              "    </tr>\n",
              "    <tr>\n",
              "      <th>male</th>\n",
              "      <td>211.889097</td>\n",
              "      <td>200.211010</td>\n",
              "      <td>202.413924</td>\n",
              "    </tr>\n",
              "  </tbody>\n",
              "</table>\n",
              "</div>"
            ],
            "text/plain": [
              "        math score  reading score  writing score\n",
              "gender                                          \n",
              "female  256.958593     207.677438     220.369327\n",
              "male    211.889097     200.211010     202.413924"
            ]
          },
          "execution_count": 69,
          "metadata": {},
          "output_type": "execute_result"
        }
      ]
    },
    {
      "cell_type": "code",
      "metadata": {
        "id": "5892d7c8-9354-4811-bc81-e55d88300220",
        "outputId": "f5d08960-bd21-4894-d7db-e2ab70a7431c"
      },
      "source": [
        "ax=var_gender.plot(kind='bar',figsize=(14,8))\n",
        "ax.bar_label(ax.containers[0])\n",
        "ax.bar_label(ax.containers[1])\n",
        "ax.bar_label(ax.containers[2])\n",
        "plt.tight_layout()"
      ],
      "id": "5892d7c8-9354-4811-bc81-e55d88300220",
      "execution_count": null,
      "outputs": [
        {
          "data": {
            "image/png": "[encoded data removed]",
            "text/plain": [
              "<Figure size 1008x576 with 1 Axes>"
            ]
          },
          "metadata": {
            "needs_background": "light"
          },
          "output_type": "display_data"
        }
      ]
    },
    {
      "cell_type": "markdown",
      "metadata": {
        "id": "1cefc301-f187-456e-9fa5-2dd52b921270"
      },
      "source": [
        "* Clearly females are on the lead while considering variance fro all the subjects"
      ],
      "id": "1cefc301-f187-456e-9fa5-2dd52b921270"
    },
    {
      "cell_type": "code",
      "metadata": {
        "id": "c1331976-6bb6-4d53-8b28-939114215b3d",
        "outputId": "d67d5651-7358-42d2-de6f-f02d9bd9bd9a"
      },
      "source": [
        "var_test"
      ],
      "id": "c1331976-6bb6-4d53-8b28-939114215b3d",
      "execution_count": null,
      "outputs": [
        {
          "data": {
            "text/html": [
              "<div>\n",
              "<style scoped>\n",
              "    .dataframe tbody tr th:only-of-type {\n",
              "        vertical-align: middle;\n",
              "    }\n",
              "\n",
              "    .dataframe tbody tr th {\n",
              "        vertical-align: top;\n",
              "    }\n",
              "\n",
              "    .dataframe thead th {\n",
              "        text-align: right;\n",
              "    }\n",
              "</style>\n",
              "<table border=\"1\" class=\"dataframe\">\n",
              "  <thead>\n",
              "    <tr style=\"text-align: right;\">\n",
              "      <th></th>\n",
              "      <th>math score</th>\n",
              "      <th>reading score</th>\n",
              "      <th>writing score</th>\n",
              "    </tr>\n",
              "    <tr>\n",
              "      <th>test preparation course</th>\n",
              "      <th></th>\n",
              "      <th></th>\n",
              "      <th></th>\n",
              "    </tr>\n",
              "  </thead>\n",
              "  <tbody>\n",
              "    <tr>\n",
              "      <th>completed</th>\n",
              "      <td>210.884027</td>\n",
              "      <td>183.265864</td>\n",
              "      <td>175.202612</td>\n",
              "    </tr>\n",
              "    <tr>\n",
              "      <th>none</th>\n",
              "      <td>246.668662</td>\n",
              "      <td>213.419851</td>\n",
              "      <td>226.251739</td>\n",
              "    </tr>\n",
              "  </tbody>\n",
              "</table>\n",
              "</div>"
            ],
            "text/plain": [
              "                         math score  reading score  writing score\n",
              "test preparation course                                          \n",
              "completed                210.884027     183.265864     175.202612\n",
              "none                     246.668662     213.419851     226.251739"
            ]
          },
          "execution_count": 70,
          "metadata": {},
          "output_type": "execute_result"
        }
      ]
    },
    {
      "cell_type": "code",
      "metadata": {
        "id": "504ebba8-f5b7-4020-a3fa-f9a741fa18b9",
        "outputId": "659c57a1-e307-4f8a-a69c-61ea10967a82"
      },
      "source": [
        "ax=var_test.plot(kind='bar',figsize=(14,8))\n",
        "ax.bar_label(ax.containers[0])\n",
        "ax.bar_label(ax.containers[1])\n",
        "ax.bar_label(ax.containers[2])\n",
        "plt.tight_layout()"
      ],
      "id": "504ebba8-f5b7-4020-a3fa-f9a741fa18b9",
      "execution_count": null,
      "outputs": [
        {
          "data": {
            "image/png": "[encoded data removed]",
            "text/plain": [
              "<Figure size 1008x576 with 1 Axes>"
            ]
          },
          "metadata": {
            "needs_background": "light"
          },
          "output_type": "display_data"
        }
      ]
    },
    {
      "cell_type": "markdown",
      "metadata": {
        "id": "1156c0a3-d184-4e43-becc-ddd7ed56fb13"
      },
      "source": [
        "* Those who havent completed the courses are on higher varience side."
      ],
      "id": "1156c0a3-d184-4e43-becc-ddd7ed56fb13"
    },
    {
      "cell_type": "markdown",
      "metadata": {
        "id": "3cf6007e-ffee-427c-9e84-c4bb255f2229"
      },
      "source": [
        "# 5. The management needs your help to give bonus points to the top 25% of students based on their maths score, so how will you help the management to achieve this."
      ],
      "id": "3cf6007e-ffee-427c-9e84-c4bb255f2229"
    },
    {
      "cell_type": "code",
      "metadata": {
        "id": "cdf34a46-e5a4-4f49-9d3b-beb68b3c336c",
        "outputId": "16c37ab3-7fd8-43a4-8745-22cedfb37ba3"
      },
      "source": [
        "# this will show the 75% quartile\n",
        "\n",
        "df.describe().T"
      ],
      "id": "cdf34a46-e5a4-4f49-9d3b-beb68b3c336c",
      "execution_count": null,
      "outputs": [
        {
          "data": {
            "text/html": [
              "<div>\n",
              "<style scoped>\n",
              "    .dataframe tbody tr th:only-of-type {\n",
              "        vertical-align: middle;\n",
              "    }\n",
              "\n",
              "    .dataframe tbody tr th {\n",
              "        vertical-align: top;\n",
              "    }\n",
              "\n",
              "    .dataframe thead th {\n",
              "        text-align: right;\n",
              "    }\n",
              "</style>\n",
              "<table border=\"1\" class=\"dataframe\">\n",
              "  <thead>\n",
              "    <tr style=\"text-align: right;\">\n",
              "      <th></th>\n",
              "      <th>count</th>\n",
              "      <th>mean</th>\n",
              "      <th>std</th>\n",
              "      <th>min</th>\n",
              "      <th>25%</th>\n",
              "      <th>50%</th>\n",
              "      <th>75%</th>\n",
              "      <th>max</th>\n",
              "    </tr>\n",
              "  </thead>\n",
              "  <tbody>\n",
              "    <tr>\n",
              "      <th>math score</th>\n",
              "      <td>1000.0</td>\n",
              "      <td>66.001</td>\n",
              "      <td>15.569567</td>\n",
              "      <td>0.0</td>\n",
              "      <td>57.0</td>\n",
              "      <td>66.0</td>\n",
              "      <td>77.00</td>\n",
              "      <td>100.0</td>\n",
              "    </tr>\n",
              "    <tr>\n",
              "      <th>reading score</th>\n",
              "      <td>1000.0</td>\n",
              "      <td>69.195</td>\n",
              "      <td>14.706436</td>\n",
              "      <td>17.0</td>\n",
              "      <td>59.0</td>\n",
              "      <td>70.0</td>\n",
              "      <td>79.25</td>\n",
              "      <td>100.0</td>\n",
              "    </tr>\n",
              "    <tr>\n",
              "      <th>writing score</th>\n",
              "      <td>1000.0</td>\n",
              "      <td>68.119</td>\n",
              "      <td>15.226381</td>\n",
              "      <td>10.0</td>\n",
              "      <td>58.0</td>\n",
              "      <td>69.0</td>\n",
              "      <td>79.00</td>\n",
              "      <td>100.0</td>\n",
              "    </tr>\n",
              "  </tbody>\n",
              "</table>\n",
              "</div>"
            ],
            "text/plain": [
              "                count    mean        std   min   25%   50%    75%    max\n",
              "math score     1000.0  66.001  15.569567   0.0  57.0  66.0  77.00  100.0\n",
              "reading score  1000.0  69.195  14.706436  17.0  59.0  70.0  79.25  100.0\n",
              "writing score  1000.0  68.119  15.226381  10.0  58.0  69.0  79.00  100.0"
            ]
          },
          "execution_count": 98,
          "metadata": {},
          "output_type": "execute_result"
        }
      ]
    },
    {
      "cell_type": "code",
      "metadata": {
        "id": "0076093f-1c39-4ebe-a33d-e0fb10475329",
        "outputId": "754b26b8-2fa4-4820-cdd1-e7be142f2f3e"
      },
      "source": [
        "df['math score'].quantile(0.75)"
      ],
      "id": "0076093f-1c39-4ebe-a33d-e0fb10475329",
      "execution_count": null,
      "outputs": [
        {
          "data": {
            "text/plain": [
              "77.0"
            ]
          },
          "execution_count": 84,
          "metadata": {},
          "output_type": "execute_result"
        }
      ]
    },
    {
      "cell_type": "code",
      "metadata": {
        "id": "747a3e7f-8f03-4a7c-a687-f02c6670a5ff"
      },
      "source": [
        "# from above we can see that 77 marks is the 75% quartile and we can get the need top 25% by taking marks equal to and above 77\n",
        "Top_math = df[df['math score'] >= 77] "
      ],
      "id": "747a3e7f-8f03-4a7c-a687-f02c6670a5ff",
      "execution_count": null,
      "outputs": []
    },
    {
      "cell_type": "code",
      "metadata": {
        "id": "27721757-67dd-43c5-981b-b7a8db004a10",
        "outputId": "100f7354-fd5e-45dc-a6c5-c7ad9d540597"
      },
      "source": [
        "Top_math.shape"
      ],
      "id": "27721757-67dd-43c5-981b-b7a8db004a10",
      "execution_count": null,
      "outputs": [
        {
          "data": {
            "text/plain": [
              "(255, 8)"
            ]
          },
          "execution_count": 100,
          "metadata": {},
          "output_type": "execute_result"
        }
      ]
    },
    {
      "cell_type": "code",
      "metadata": {
        "id": "c209d14c-1f66-4ab7-afa4-44462a7e1c89",
        "outputId": "53ec5d9a-d7da-472f-aedb-b825ec120b21"
      },
      "source": [
        "Top_math.head()"
      ],
      "id": "c209d14c-1f66-4ab7-afa4-44462a7e1c89",
      "execution_count": null,
      "outputs": [
        {
          "data": {
            "text/html": [
              "<div>\n",
              "<style scoped>\n",
              "    .dataframe tbody tr th:only-of-type {\n",
              "        vertical-align: middle;\n",
              "    }\n",
              "\n",
              "    .dataframe tbody tr th {\n",
              "        vertical-align: top;\n",
              "    }\n",
              "\n",
              "    .dataframe thead th {\n",
              "        text-align: right;\n",
              "    }\n",
              "</style>\n",
              "<table border=\"1\" class=\"dataframe\">\n",
              "  <thead>\n",
              "    <tr style=\"text-align: right;\">\n",
              "      <th></th>\n",
              "      <th>gender</th>\n",
              "      <th>race/ethnicity</th>\n",
              "      <th>parental level of education</th>\n",
              "      <th>lunch</th>\n",
              "      <th>test preparation course</th>\n",
              "      <th>math score</th>\n",
              "      <th>reading score</th>\n",
              "      <th>writing score</th>\n",
              "    </tr>\n",
              "  </thead>\n",
              "  <tbody>\n",
              "    <tr>\n",
              "      <th>414</th>\n",
              "      <td>female</td>\n",
              "      <td>group A</td>\n",
              "      <td>high school</td>\n",
              "      <td>free/reduced</td>\n",
              "      <td>completed</td>\n",
              "      <td>77</td>\n",
              "      <td>88</td>\n",
              "      <td>85</td>\n",
              "    </tr>\n",
              "    <tr>\n",
              "      <th>415</th>\n",
              "      <td>female</td>\n",
              "      <td>group B</td>\n",
              "      <td>master's degree</td>\n",
              "      <td>free/reduced</td>\n",
              "      <td>completed</td>\n",
              "      <td>77</td>\n",
              "      <td>97</td>\n",
              "      <td>94</td>\n",
              "    </tr>\n",
              "    <tr>\n",
              "      <th>416</th>\n",
              "      <td>female</td>\n",
              "      <td>group B</td>\n",
              "      <td>bachelor's degree</td>\n",
              "      <td>free/reduced</td>\n",
              "      <td>none</td>\n",
              "      <td>77</td>\n",
              "      <td>85</td>\n",
              "      <td>87</td>\n",
              "    </tr>\n",
              "    <tr>\n",
              "      <th>417</th>\n",
              "      <td>female</td>\n",
              "      <td>group B</td>\n",
              "      <td>master's degree</td>\n",
              "      <td>standard</td>\n",
              "      <td>none</td>\n",
              "      <td>77</td>\n",
              "      <td>90</td>\n",
              "      <td>84</td>\n",
              "    </tr>\n",
              "    <tr>\n",
              "      <th>418</th>\n",
              "      <td>female</td>\n",
              "      <td>group B</td>\n",
              "      <td>high school</td>\n",
              "      <td>standard</td>\n",
              "      <td>completed</td>\n",
              "      <td>77</td>\n",
              "      <td>82</td>\n",
              "      <td>89</td>\n",
              "    </tr>\n",
              "  </tbody>\n",
              "</table>\n",
              "</div>"
            ],
            "text/plain": [
              "     gender race/ethnicity parental level of education         lunch  \\\n",
              "414  female        group A                 high school  free/reduced   \n",
              "415  female        group B             master's degree  free/reduced   \n",
              "416  female        group B           bachelor's degree  free/reduced   \n",
              "417  female        group B             master's degree      standard   \n",
              "418  female        group B                 high school      standard   \n",
              "\n",
              "    test preparation course  math score  reading score  writing score  \n",
              "414               completed          77             88             85  \n",
              "415               completed          77             97             94  \n",
              "416                    none          77             85             87  \n",
              "417                    none          77             90             84  \n",
              "418               completed          77             82             89  "
            ]
          },
          "execution_count": 101,
          "metadata": {},
          "output_type": "execute_result"
        }
      ]
    },
    {
      "cell_type": "markdown",
      "metadata": {
        "id": "a8fd67b4-95cb-4711-bb9b-ee8ddf3e8661"
      },
      "source": [
        "* From the above about 255 students are eligible for the bonus points and their data is available in Top_math Variable."
      ],
      "id": "a8fd67b4-95cb-4711-bb9b-ee8ddf3e8661"
    },
    {
      "cell_type": "code",
      "metadata": {
        "id": "47a65171-12fa-4238-a326-ca4cbaa2c989"
      },
      "source": [
        ""
      ],
      "id": "47a65171-12fa-4238-a326-ca4cbaa2c989",
      "execution_count": null,
      "outputs": []
    }
  ]
}