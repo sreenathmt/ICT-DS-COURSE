{
  "nbformat": 4,
  "nbformat_minor": 0,
  "metadata": {
    "colab": {
      "name": "Q&A activity_jupiter.ipynb",
      "provenance": [],
      "collapsed_sections": [],
      "toc_visible": true,
      "include_colab_link": true
    },
    "kernelspec": {
      "display_name": "Python 3",
      "language": "python",
      "name": "python3"
    },
    "language_info": {
      "codemirror_mode": {
        "name": "ipython",
        "version": 3
      },
      "file_extension": ".py",
      "mimetype": "text/x-python",
      "name": "python",
      "nbconvert_exporter": "python",
      "pygments_lexer": "ipython3",
      "version": "3.8.8"
    }
  },
  "cells": [
    {
      "cell_type": "markdown",
      "metadata": {
        "id": "view-in-github",
        "colab_type": "text"
      },
      "source": [
        "<a href=\"https://colab.research.google.com/github/sreenathmt/ICT-DS-COURSE/blob/main/Q%26A_activity_jupiter.ipynb\" target=\"_parent\"><img src=\"https://colab.research.google.com/assets/colab-badge.svg\" alt=\"Open In Colab\"/></a>"
      ]
    },
    {
      "cell_type": "markdown",
      "metadata": {
        "id": "4z_Z-K1tlrS7"
      },
      "source": [
        "## 1. Complete the following code to find the area of an equilateral triangle. Output should be as displayed"
      ]
    },
    {
      "cell_type": "code",
      "metadata": {
        "colab": {
          "base_uri": "https://localhost:8080/"
        },
        "id": "rP2qFD_SlrS_",
        "outputId": "c3aaf35d-a160-451d-f1bf-ee02c3b7ea77"
      },
      "source": [
        "import math\n",
        "side = float(input(\"Enter the side of the equilateral triangle: \"))\n",
        "area = round(((math.sqrt(3))/4)*pow(side,2),3)\n",
        "print(f'Area = {area}')\n"
      ],
      "execution_count": null,
      "outputs": [
        {
          "name": "stdin",
          "output_type": "stream",
          "text": [
            "Enter the side of the equilateral triangle:  5\n"
          ]
        },
        {
          "name": "stdout",
          "output_type": "stream",
          "text": [
            "Area = 10.825\n"
          ]
        }
      ]
    },
    {
      "cell_type": "markdown",
      "metadata": {
        "id": "TjVKjIfclrTB"
      },
      "source": [
        "## 2. Write a program to count the number of each characters in a string"
      ]
    },
    {
      "cell_type": "code",
      "metadata": {
        "id": "JY5seVUQlrTC",
        "outputId": "0d3bc4ca-02e2-4a20-c285-937447c2b418"
      },
      "source": [
        "# program to accept a string value from the user and display \n",
        "# the count of each character in that string.\n",
        "\n",
        "\n",
        "strA=str(input(\"Enter a string value: \\n\"))\n",
        "# Given string\n",
        "print(\"Given String: \",strA)\n",
        "# Using counter with set\n",
        "res = {}\n",
        "res={n: strA.count(n) for n in set(strA)}\n",
        "\n",
        "# Result\n",
        "print(\"Count of each character :\\n \",res)"
      ],
      "execution_count": null,
      "outputs": [
        {
          "name": "stdin",
          "output_type": "stream",
          "text": [
            "Enter a string value: \n",
            " Sreenath\n"
          ]
        },
        {
          "name": "stdout",
          "output_type": "stream",
          "text": [
            "Given String:  Sreenath\n",
            "Count of each character :\n",
            "  {'e': 2, 'h': 1, 'S': 1, 'a': 1, 't': 1, 'r': 1, 'n': 1}\n"
          ]
        }
      ]
    },
    {
      "cell_type": "markdown",
      "metadata": {
        "id": "l3LCULfklrTD"
      },
      "source": [
        "## Write a program to find the area and perimeter of a rectangle using functions"
      ]
    },
    {
      "cell_type": "code",
      "metadata": {
        "id": "8haQD8edlrTD",
        "outputId": "4f9310c2-c637-44e6-e235-2efd01674879"
      },
      "source": [
        "def recArea(l,b):\n",
        "    return(l*b)\n",
        "def recPer(l,b):\n",
        "    return(2*(l+b))\n",
        "\n",
        "l=float(input(' Enter the length of rectangle '))\n",
        "b=float(input(' Enter the breadth of rectangle '))\n",
        "\n",
        "print(f'Area of rectangle is {recArea(l,b)}')\n",
        "print(f'Permimeter of rectangle is {recPer(l,b)}')"
      ],
      "execution_count": null,
      "outputs": [
        {
          "name": "stdin",
          "output_type": "stream",
          "text": [
            " Enter the length of rectangle  4\n",
            " Enter the breadth of rectangle  5\n"
          ]
        },
        {
          "name": "stdout",
          "output_type": "stream",
          "text": [
            "Area of rectangle is 20.0\n",
            "Permimeter of rectangle is 18.0\n"
          ]
        }
      ]
    },
    {
      "cell_type": "markdown",
      "metadata": {
        "id": "JHK4ZdsflrTE"
      },
      "source": [
        "## 4. Write a program to print the fibonacci series till a specified number"
      ]
    },
    {
      "cell_type": "code",
      "metadata": {
        "id": "LyBEj-4SlrTE",
        "outputId": "c64ae457-9933-447e-9c08-75b74edbd50e"
      },
      "source": [
        "a=int(input(\"Enter the terms\"))\n",
        "f=0                                        \n",
        "s=1                                         \n",
        "if a<=0:\n",
        "    print(\"The requested series is\",f)\n",
        "else:\n",
        "    print(f,s,end=\" \")\n",
        "    for x in range(2,a):\n",
        "        next=f+s                           \n",
        "        print(next,end=\" \")\n",
        "        f=s\n",
        "        s=next"
      ],
      "execution_count": null,
      "outputs": [
        {
          "name": "stdin",
          "output_type": "stream",
          "text": [
            "Enter the terms 5\n"
          ]
        },
        {
          "name": "stdout",
          "output_type": "stream",
          "text": [
            "0 1 1 2 3 "
          ]
        }
      ]
    },
    {
      "cell_type": "markdown",
      "metadata": {
        "id": "u4uBUcQKlrTE"
      },
      "source": [
        "## 5. Complete the following code to find the minimum of 3 number using cinditional statements. Output should be as displayed"
      ]
    },
    {
      "cell_type": "code",
      "metadata": {
        "id": "XdZwrZjIlrTF",
        "outputId": "9519128a-e29b-4641-97e6-f5bfb9eb77d2"
      },
      "source": [
        "a,b,c = map(int, input(\"Enter three numbers followed by  : \").split())\n",
        "\n",
        "print(\"First number :\",a)\n",
        "print(\"Second number :\",b)\n",
        "print(\"Third number :\",c)\n",
        "if a == b and b == c:\n",
        "    print(\"Entered numbers are equal!!!\")\n",
        "elif a < b and a < c:\n",
        "    print(a,\" is smallest\")\n",
        "elif b < c:\n",
        "    print(b,\" is smallest\")\n",
        "else:\n",
        "    print(c,\" is smallest\")"
      ],
      "execution_count": null,
      "outputs": [
        {
          "name": "stdin",
          "output_type": "stream",
          "text": [
            "Enter three numbers followed by  :  3 11 88\n"
          ]
        },
        {
          "name": "stdout",
          "output_type": "stream",
          "text": [
            "First number : 3\n",
            "Second number : 11\n",
            "Third number : 88\n",
            "3  is smallest\n"
          ]
        }
      ]
    },
    {
      "cell_type": "code",
      "metadata": {
        "colab": {
          "base_uri": "https://localhost:8080/"
        },
        "id": "FTqqtb1yMB84",
        "outputId": "aefa444f-0f15-4571-9f7b-513468f993da"
      },
      "source": [
        "a,b,c = input(\"Enter three numbers followed by: \").split()\n",
        "\n",
        "print(\"First number :\",a)\n",
        "print(\"Second number :\",b)\n",
        "print(\"Third number :\",c)\n",
        "if a == b and b == c:\n",
        "    print(\"Entered numbers are equal!!!\")\n",
        "elif a < b and a < c:\n",
        "    print(a,\" is smallest\")\n",
        "elif b < c:\n",
        "    print(b,\" is smallest\")\n",
        "else:\n",
        "    print(c,\" is smallest\")"
      ],
      "execution_count": null,
      "outputs": [
        {
          "name": "stdin",
          "output_type": "stream",
          "text": [
            "Enter three numbers followed by:  3 -11 5\n"
          ]
        },
        {
          "name": "stdout",
          "output_type": "stream",
          "text": [
            "First number : 3\n",
            "Second number : -11\n",
            "Third number : 5\n",
            "-11  is smallest\n"
          ]
        }
      ]
    },
    {
      "cell_type": "markdown",
      "metadata": {
        "id": "aR_CnToWlrTG"
      },
      "source": [
        "## 6. Write a program to print star pyramind. The number of rows should be taken as input from the user"
      ]
    },
    {
      "cell_type": "code",
      "metadata": {
        "id": "UsniGrT7RqWl",
        "outputId": "6fad2f1f-26e9-4724-e2f4-890ac15faaff"
      },
      "source": [
        "rows = int(input(\"Enter number of rows to print: \"))\n",
        "count = 0\n",
        "for i in range(1, rows+1):\n",
        "    for y in range(1, (rows-i)+1):\n",
        "        print(end=\"  \")   \n",
        "    while count!=(2*i-1):\n",
        "        print(\"* \", end=\"\")\n",
        "        count += 1   \n",
        "    count = 0\n",
        "    print()"
      ],
      "execution_count": null,
      "outputs": [
        {
          "name": "stdin",
          "output_type": "stream",
          "text": [
            "Enter number of rows to print:  5\n"
          ]
        },
        {
          "name": "stdout",
          "output_type": "stream",
          "text": [
            "        * \n",
            "      * * * \n",
            "    * * * * * \n",
            "  * * * * * * * \n",
            "* * * * * * * * * \n"
          ]
        }
      ]
    },
    {
      "cell_type": "markdown",
      "metadata": {
        "id": "tlY6aFWBlrTH"
      },
      "source": [
        "## 7. Complete the following code to convert hour into seconds. Output should be as displayed"
      ]
    },
    {
      "cell_type": "code",
      "metadata": {
        "colab": {
          "base_uri": "https://localhost:8080/"
        },
        "id": "YOZQFk7FlrTH",
        "outputId": "164a6040-159f-4634-d98c-3851bc772288"
      },
      "source": [
        "def to_seconds(t):\n",
        "    t=t*3600\n",
        "    return t\n",
        "time_in_hours = int(input('Enter time in Hour :'))\n",
        "print(time_in_hours ,\" Hour is equal to\" ,to_seconds(time_in_hours) ,\" Seconds\")"
      ],
      "execution_count": null,
      "outputs": [
        {
          "name": "stdin",
          "output_type": "stream",
          "text": [
            "Enter time in Hour : 5\n"
          ]
        },
        {
          "name": "stdout",
          "output_type": "stream",
          "text": [
            "5  Hour is equal to 18000  Seconds\n"
          ]
        }
      ]
    },
    {
      "cell_type": "markdown",
      "metadata": {
        "id": "CnYorNiLlrTI"
      },
      "source": [
        "## 8. Write a program to print multiplication table as below"
      ]
    },
    {
      "cell_type": "code",
      "metadata": {
        "colab": {
          "base_uri": "https://localhost:8080/"
        },
        "id": "dPQqDPuDlrTI",
        "outputId": "1fd8646d-bf0c-44a8-c3e6-663e5d5da748"
      },
      "source": [
        "number = int(input('Enter a number to find the multiplication table: '))\n",
        "for i in range(1, 11):\n",
        "  print(f'{i} x {number} = {i * number}')"
      ],
      "execution_count": null,
      "outputs": [
        {
          "name": "stdin",
          "output_type": "stream",
          "text": [
            "Enter a number to find the multiplication table:  5\n"
          ]
        },
        {
          "name": "stdout",
          "output_type": "stream",
          "text": [
            "1 x 5 = 5\n",
            "2 x 5 = 10\n",
            "3 x 5 = 15\n",
            "4 x 5 = 20\n",
            "5 x 5 = 25\n",
            "6 x 5 = 30\n",
            "7 x 5 = 35\n",
            "8 x 5 = 40\n",
            "9 x 5 = 45\n",
            "10 x 5 = 50\n"
          ]
        }
      ]
    },
    {
      "cell_type": "markdown",
      "metadata": {
        "id": "Fiaez8iblrTI"
      },
      "source": [
        "## 9. Write a program to take your 5 favorite food as list and print each as 'I like Biriyani'"
      ]
    },
    {
      "cell_type": "code",
      "metadata": {
        "colab": {
          "base_uri": "https://localhost:8080/"
        },
        "id": "39W1zFX7lrTJ",
        "outputId": "d9a7e962-0319-4f09-db93-13b7a379a7ae"
      },
      "source": [
        "food=input('Enter your favorite food list followed by space : ').split()\n",
        "for i in range(0,len(food)):\n",
        "               print('I like',food[i])"
      ],
      "execution_count": null,
      "outputs": [
        {
          "name": "stdin",
          "output_type": "stream",
          "text": [
            "Enter your favorite food list followed by space :  idli dosa masala\n"
          ]
        },
        {
          "name": "stdout",
          "output_type": "stream",
          "text": [
            "I like idli\n",
            "I like dosa\n",
            "I like masala\n"
          ]
        }
      ]
    },
    {
      "cell_type": "markdown",
      "metadata": {
        "id": "3vlcDNNEP7d_"
      },
      "source": [
        "## 10. Find error(s) in the following code(if any) and rewrite code.\n",
        "\n"
      ]
    },
    {
      "cell_type": "code",
      "metadata": {
        "id": "coREkcY3P9sG"
      },
      "source": [
        "x= int(“Enter value of x:”)  #input not mentioned\n",
        "for  in range (0,10):  #y value is not provided and in for loop also its not there\n",
        "     if x=y\n",
        "          print(\"They are equal\")\n",
        "     else:\n",
        "         Print( \"They are unequal\")\n",
        "        "
      ],
      "execution_count": null,
      "outputs": []
    },
    {
      "cell_type": "code",
      "metadata": {
        "id": "aD4PQdKhRqWv",
        "outputId": "937c2803-b261-4781-aaf1-bdde5e20f972"
      },
      "source": [
        "x= int(input(\"Enter value of x:\"))\n",
        "for y in range (0,6):\n",
        "     if x == y:\n",
        "          print(\"They are equal\")\n",
        "     else:\n",
        "         print( \"They are unequal\")"
      ],
      "execution_count": null,
      "outputs": [
        {
          "name": "stdin",
          "output_type": "stream",
          "text": [
            "Enter value of x: 5\n"
          ]
        },
        {
          "name": "stdout",
          "output_type": "stream",
          "text": [
            "They are unequal\n",
            "They are unequal\n",
            "They are unequal\n",
            "They are unequal\n",
            "They are unequal\n",
            "They are equal\n",
            "They are unequal\n",
            "They are unequal\n",
            "They are unequal\n",
            "They are unequal\n",
            "They are unequal\n"
          ]
        }
      ]
    },
    {
      "cell_type": "code",
      "metadata": {
        "id": "DZQio8lnRqWw",
        "outputId": "3cdc774c-1bbe-4b51-ca69-029d8cda7fb2"
      },
      "source": [
        "x = int(input('Enter value of x: '))\n",
        "y = int(input('Enter the value of y: '))\n",
        "if x == y:\n",
        "    print(\"They are equal\")\n",
        "else:\n",
        "    print( \"They are unequal\")"
      ],
      "execution_count": null,
      "outputs": [
        {
          "name": "stdin",
          "output_type": "stream",
          "text": [
            "Enter value of x:  5\n",
            "Enter the value of y:  6\n"
          ]
        },
        {
          "name": "stdout",
          "output_type": "stream",
          "text": [
            "They are unequal\n"
          ]
        }
      ]
    }
  ]
}